{
 "cells": [
  {
   "cell_type": "code",
   "execution_count": 1,
   "id": "c95f7a1b",
   "metadata": {},
   "outputs": [],
   "source": [
    "import pandas as pd\n",
    "import numpy as np\n",
    "import matplotlib.pyplot as plt\n",
    "import sklearn\n",
    "import pyspark\n",
    "import pyspark.sql.functions as f\n",
    "from pyspark.sql import SparkSession\n",
    "from pyspark.sql.functions import isnan, when, count, col, isnull, countDistinct\n",
    "\n",
    "from sklearn.preprocessing import LabelEncoder, StandardScaler\n",
    "from sklearn.model_selection import GridSearchCV, cross_val_score, KFold, train_test_split\n",
    "from sklearn.pipeline import Pipeline\n",
    "from category_encoders import TargetEncoder\n",
    "from sklearn.metrics import root_mean_squared_error\n",
    "\n",
    "from sklearn.linear_model import Ridge\n",
    "from sklearn.tree import DecisionTreeRegressor\n",
    "from sklearn.ensemble import RandomForestRegressor\n",
    "from catboost import CatBoostRegressor\n",
    "from lightgbm import LGBMRegressor "
   ]
  },
  {
   "cell_type": "markdown",
   "id": "1d656db6",
   "metadata": {},
   "source": [
    "Задача регрессии. Будем минимизировать RMSE"
   ]
  },
  {
   "cell_type": "code",
   "execution_count": 4,
   "id": "4f3425ed",
   "metadata": {},
   "outputs": [],
   "source": [
    "spark = SparkSession.builder.getOrCreate()"
   ]
  },
  {
   "cell_type": "code",
   "execution_count": 5,
   "id": "f2fa0bf5",
   "metadata": {},
   "outputs": [
    {
     "name": "stdout",
     "output_type": "stream",
     "text": [
      "root\n",
      " |-- id: integer (nullable = true)\n",
      " |-- brand: string (nullable = true)\n",
      " |-- model: string (nullable = true)\n",
      " |-- model_year: integer (nullable = true)\n",
      " |-- milage: integer (nullable = true)\n",
      " |-- fuel_type: string (nullable = true)\n",
      " |-- engine: string (nullable = true)\n",
      " |-- transmission: string (nullable = true)\n",
      " |-- ext_col: string (nullable = true)\n",
      " |-- int_col: string (nullable = true)\n",
      " |-- accident: string (nullable = true)\n",
      " |-- clean_title: string (nullable = true)\n",
      " |-- price: integer (nullable = true)\n",
      "\n"
     ]
    }
   ],
   "source": [
    "df = spark.read.csv(\"train.csv\", inferSchema='True', header=True)\n",
    "df.printSchema()"
   ]
  },
  {
   "cell_type": "code",
   "execution_count": 6,
   "id": "f4c103b4",
   "metadata": {},
   "outputs": [
    {
     "data": {
      "text/plain": [
       "['model',\n",
       " 'accident',\n",
       " 'int_col',\n",
       " 'brand',\n",
       " 'engine',\n",
       " 'transmission',\n",
       " 'ext_col',\n",
       " 'clean_title',\n",
       " 'fuel_type']"
      ]
     },
     "execution_count": 6,
     "metadata": {},
     "output_type": "execute_result"
    }
   ],
   "source": [
    "columns = df.columns\n",
    "\n",
    "id_col = [\"id\", \"price\"]\n",
    "numeric_col = [\"model_year\", \"milage\", \"stem-width\"]\n",
    "\n",
    "categorial_col = list(set(columns) - set(numeric_col) - set(id_col))\n",
    "categorial_col"
   ]
  },
  {
   "cell_type": "markdown",
   "id": "acc65b16",
   "metadata": {},
   "source": [
    "Впомогательные функции для подсчёта null, количества уникальных значений и долей каждого уникального значения в признаке"
   ]
  },
  {
   "cell_type": "code",
   "execution_count": 7,
   "id": "c7b4fcfb",
   "metadata": {},
   "outputs": [],
   "source": [
    "def count_null(need_df):\n",
    "    print(\"None:\")\n",
    "    need_df.select([count(when(isnan(c) | col(c).isNull(), c)).alias(c) for c in need_df.columns]).show()\n",
    "    \n",
    "def count_unique(need_df, need_columns):\n",
    "    print(\"Unique:\")\n",
    "    need_df.agg(*(countDistinct(col(c)).alias(c) for c in need_columns)).show()\n",
    "\n",
    "def count_quantity(need_df, need_column):\n",
    "    df_size = need_df.count()\n",
    "\n",
    "    my_list = need_df.select(f.collect_list(need_column)).first()[0]\n",
    "    memory = {}\n",
    "\n",
    "    for item in my_list:\n",
    "        memory[item] = memory.get(item, 0) + 1 / df_size\n",
    "\n",
    "    print(need_column)\n",
    "    sum_quantity = 0\n",
    "    for key in memory:\n",
    "        print(key, memory[key])\n",
    "        sum_quantity += memory[key]\n",
    "    print(\"None:\", 1 - sum_quantity)"
   ]
  },
  {
   "cell_type": "code",
   "execution_count": 8,
   "id": "c5f7017f",
   "metadata": {},
   "outputs": [
    {
     "name": "stdout",
     "output_type": "stream",
     "text": [
      "clean_title\n",
      "Yes 0.8863912418506862\n",
      "None: 0.11360875814931382\n"
     ]
    }
   ],
   "source": [
    "count_quantity(df, \"clean_title\")"
   ]
  },
  {
   "cell_type": "code",
   "execution_count": 9,
   "id": "33759a0a",
   "metadata": {},
   "outputs": [
    {
     "name": "stdout",
     "output_type": "stream",
     "text": [
      "None:\n",
      "+---+-----+-----+----------+------+---------+------+------------+-------+-------+--------+-----------+-----+\n",
      "| id|brand|model|model_year|milage|fuel_type|engine|transmission|ext_col|int_col|accident|clean_title|price|\n",
      "+---+-----+-----+----------+------+---------+------+------------+-------+-------+--------+-----------+-----+\n",
      "|  0|    0|    0|         0|     0|     5083|     0|           0|      0|      0|    2452|      21419|    0|\n",
      "+---+-----+-----+----------+------+---------+------+------------+-------+-------+--------+-----------+-----+\n",
      "\n",
      "Unique:\n",
      "+------+-----+-----+----------+------+---------+------+------------+-------+-------+--------+-----------+-----+\n",
      "|    id|brand|model|model_year|milage|fuel_type|engine|transmission|ext_col|int_col|accident|clean_title|price|\n",
      "+------+-----+-----+----------+------+---------+------+------------+-------+-------+--------+-----------+-----+\n",
      "|188533|   57| 1897|        34|  6651|        7|  1117|          52|    319|    156|       2|          1| 1569|\n",
      "+------+-----+-----+----------+------+---------+------+------------+-------+-------+--------+-----------+-----+\n",
      "\n"
     ]
    },
    {
     "data": {
      "text/plain": [
       "(None, None)"
      ]
     },
     "execution_count": 9,
     "metadata": {},
     "output_type": "execute_result"
    }
   ],
   "source": [
    "count_null(df), count_unique(df, columns)"
   ]
  },
  {
   "cell_type": "markdown",
   "id": "d28ed031",
   "metadata": {},
   "source": [
    "Изучим пропуски и подумаем на что их лучше заменить"
   ]
  },
  {
   "cell_type": "code",
   "execution_count": 10,
   "id": "9549cd1c",
   "metadata": {},
   "outputs": [
    {
     "name": "stdout",
     "output_type": "stream",
     "text": [
      "+----------+--------------------+---------+\n",
      "|     brand|               model|fuel_type|\n",
      "+----------+--------------------+---------+\n",
      "|     Tesla|  Model X Long Range|     NULL|\n",
      "|     Tesla|Model 3 Standard ...|     NULL|\n",
      "|       BMW|               M3 CS|     NULL|\n",
      "|       BMW|             i3 Base|     NULL|\n",
      "|Volkswagen|     e-tron Prestige|     NULL|\n",
      "|      Audi|i3 Base w/Range E...|     NULL|\n",
      "|   Pontiac|               G8 GT|     NULL|\n",
      "|     Tesla|          Model S 85|     NULL|\n",
      "|     Tesla|        Model X P90D|     NULL|\n",
      "|      Ford| F-150 Lightning XLT|     NULL|\n",
      "|   Porsche|        Taycan Turbo|     NULL|\n",
      "|    Nissan|             Leaf SL|     NULL|\n",
      "|  Maserati|      Grecale Modena|     NULL|\n",
      "|     Dodge|       Prius v Three|     NULL|\n",
      "|     Tesla|       Model S P100D|     NULL|\n",
      "|     Tesla|   Model 3 Mid Range|     NULL|\n",
      "|     Tesla|         Model S 90D|     NULL|\n",
      "|       Kia|        Leaf SV PLUS|     NULL|\n",
      "|   Hyundai|         Kona EV SEL|     NULL|\n",
      "|Volkswagen|          ID.4 Pro S|     NULL|\n",
      "+----------+--------------------+---------+\n",
      "only showing top 20 rows\n",
      "\n"
     ]
    }
   ],
   "source": [
    "df_local = df.select(\"brand\", \"model\", \"fuel_type\").where(df[\"fuel_type\"].isNull()).dropDuplicates()\n",
    "df_local.show()"
   ]
  },
  {
   "cell_type": "markdown",
   "id": "598519b6",
   "metadata": {},
   "source": [
    "Погуглив несколько машин, можно понять что скорее всего все они относятся к электрокарам. Можем заменить на любую строку, которую ещё не встречалась в наборе \"fuel_type\""
   ]
  },
  {
   "cell_type": "code",
   "execution_count": 11,
   "id": "d72b966b",
   "metadata": {},
   "outputs": [],
   "source": [
    "df = df.withColumn(\"fuel_type\", when(df[\"fuel_type\"].isNull(), \"Electro\").otherwise(df[\"fuel_type\"]))"
   ]
  },
  {
   "cell_type": "code",
   "execution_count": 12,
   "id": "3007ca98",
   "metadata": {},
   "outputs": [
    {
     "name": "stdout",
     "output_type": "stream",
     "text": [
      "accident\n",
      "None reported 0.7665183283560854\n",
      "At least 1 accident or damage reported 0.22047599094054138\n",
      "None: 0.013005680703373268\n"
     ]
    }
   ],
   "source": [
    "count_quantity(df, \"accident\")"
   ]
  },
  {
   "cell_type": "code",
   "execution_count": 13,
   "id": "cf22a9d8",
   "metadata": {},
   "outputs": [],
   "source": [
    "df = df.withColumn(\"accident\", when(df[\"accident\"].isNull(), \"\").otherwise(df[\"accident\"]))"
   ]
  },
  {
   "cell_type": "code",
   "execution_count": 14,
   "id": "34c86986",
   "metadata": {},
   "outputs": [
    {
     "name": "stdout",
     "output_type": "stream",
     "text": [
      "clean_title\n",
      "Yes 0.8863912418506862\n",
      "None: 0.11360875814931382\n"
     ]
    }
   ],
   "source": [
    "count_quantity(df, \"clean_title\")"
   ]
  },
  {
   "cell_type": "code",
   "execution_count": 115,
   "id": "6d5ff4d0",
   "metadata": {},
   "outputs": [],
   "source": [
    "df = df.withColumn(\"clean_title\", when(df[\"clean_title\"].isNull(), \"No\").otherwise(df[\"clean_title\"]))"
   ]
  },
  {
   "cell_type": "markdown",
   "id": "124e5558",
   "metadata": {},
   "source": [
    "В признаке \"accident\" null заменим на любую строку. А в \"clean_title\" будем пологать, что null - это \"No\", потом заменим на 0."
   ]
  },
  {
   "cell_type": "code",
   "execution_count": 15,
   "id": "6e48c77e",
   "metadata": {},
   "outputs": [
    {
     "name": "stdout",
     "output_type": "stream",
     "text": [
      "None:\n",
      "+---+-----+-----+----------+------+---------+------+------------+-------+-------+--------+-----------+-----+\n",
      "| id|brand|model|model_year|milage|fuel_type|engine|transmission|ext_col|int_col|accident|clean_title|price|\n",
      "+---+-----+-----+----------+------+---------+------+------------+-------+-------+--------+-----------+-----+\n",
      "|  0|    0|    0|         0|     0|        0|     0|           0|      0|      0|       0|      21419|    0|\n",
      "+---+-----+-----+----------+------+---------+------+------------+-------+-------+--------+-----------+-----+\n",
      "\n"
     ]
    }
   ],
   "source": [
    "count_null(df)"
   ]
  },
  {
   "cell_type": "markdown",
   "id": "2b4b0fbd",
   "metadata": {},
   "source": [
    "Изучим наш target"
   ]
  },
  {
   "cell_type": "code",
   "execution_count": 16,
   "id": "1078bfaf",
   "metadata": {},
   "outputs": [],
   "source": [
    "y = df.select(\"price\").toPandas()"
   ]
  },
  {
   "cell_type": "code",
   "execution_count": 17,
   "id": "2b3d6cd8",
   "metadata": {},
   "outputs": [
    {
     "data": {
      "text/plain": [
       "array([[<Axes: title={'center': 'price'}>]], dtype=object)"
      ]
     },
     "execution_count": 17,
     "metadata": {},
     "output_type": "execute_result"
    },
    {
     "data": {
      "image/png": "[encoded data removed]",
      "text/plain": [
       "<Figure size 640x480 with 1 Axes>"
      ]
     },
     "metadata": {},
     "output_type": "display_data"
    }
   ],
   "source": [
    "y.hist(bins=100)"
   ]
  },
  {
   "cell_type": "markdown",
   "id": "da4283b8",
   "metadata": {},
   "source": [
    "Логарифмируем значения"
   ]
  },
  {
   "cell_type": "code",
   "execution_count": 18,
   "id": "c6339ee4",
   "metadata": {},
   "outputs": [
    {
     "data": {
      "text/plain": [
       "array([[<Axes: title={'center': 'price'}>]], dtype=object)"
      ]
     },
     "execution_count": 18,
     "metadata": {},
     "output_type": "execute_result"
    },
    {
     "data": {
      "image/png": "[encoded data removed]",
      "text/plain": [
       "<Figure size 640x480 with 1 Axes>"
      ]
     },
     "metadata": {},
     "output_type": "display_data"
    }
   ],
   "source": [
    "np.log(1 + y).hist(bins=100)"
   ]
  },
  {
   "cell_type": "markdown",
   "id": "9f2f6e3a",
   "metadata": {},
   "source": [
    "Нормальное распределение получить не удалось. Есть автомобили, цена которых сильно отличается от средней. Логарифмируем второй раз"
   ]
  },
  {
   "cell_type": "code",
   "execution_count": 19,
   "id": "48b22134",
   "metadata": {},
   "outputs": [
    {
     "data": {
      "text/plain": [
       "array([[<Axes: title={'center': 'price'}>]], dtype=object)"
      ]
     },
     "execution_count": 19,
     "metadata": {},
     "output_type": "execute_result"
    },
    {
     "data": {
      "image/png": "[encoded data removed]",
      "text/plain": [
       "<Figure size 640x480 with 1 Axes>"
      ]
     },
     "metadata": {},
     "output_type": "display_data"
    }
   ],
   "source": [
    "np.log(np.log(1 + y)).hist(bins=100)"
   ]
  },
  {
   "cell_type": "markdown",
   "id": "f79c72d5",
   "metadata": {},
   "source": [
    "Стало лучше. Запихну работу с данными в один класс, сделаю LabelEncoder для категориальных признаков. И нормализую данные."
   ]
  },
  {
   "cell_type": "code",
   "execution_count": 2,
   "id": "423b8baa",
   "metadata": {},
   "outputs": [],
   "source": [
    "class BaseDataPreprocessor(sklearn.base.TransformerMixin):\n",
    "    def __init__(self, categorical_col):\n",
    "        self.categorical_col = categorical_col\n",
    "        self.memory_le = {}\n",
    "        pass\n",
    "\n",
    "    def fit(self, data, *args):\n",
    "        for column in self.categorical_col:\n",
    "            self.memory_le[column] = LabelEncoder().fit(data[column])\n",
    "        return self\n",
    "        \n",
    "    def transform(self, df, train=False) -> np.array:\n",
    "        df = df.withColumn(\"fuel_type\", when(df[\"fuel_type\"].isNull(), \"\").otherwise(df[\"fuel_type\"]))\n",
    "        df = df.withColumn(\"accident\", when(df[\"accident\"].isNull(), \"\").otherwise(df[\"accident\"]))\n",
    "        df = df.withColumn(\"clean_title\", when(df[\"clean_title\"].isNull(), \"No\").otherwise(df[\"clean_title\"]))\n",
    "        \n",
    "        df = df.withColumn(\"clean_title\", when(df[\"clean_title\"] == \"Yes\", 1).otherwise(df[\"clean_title\"]))\n",
    "        df = df.withColumn(\"clean_title\", when(df[\"clean_title\"] == \"No\", 0).otherwise(df[\"clean_title\"]))\n",
    "        \n",
    "        df = df.toPandas()\n",
    "        \n",
    "        for column in categorical_columns:\n",
    "            df[column] = self.memory_le[column].transform(df[column])\n",
    "        \n",
    "        \n",
    "        if train:\n",
    "            return df.drop([\"id\", \"price\"], axis=1), np.log(np.log(1 + df[\"price\"]))\n",
    "        else:\n",
    "            return df.drop([\"id\"], axis=1)"
   ]
  },
  {
   "cell_type": "markdown",
   "id": "980ac313",
   "metadata": {},
   "source": [
    "Добавим признак для возраста автомобиля. Вдруг поможет)"
   ]
  },
  {
   "cell_type": "code",
   "execution_count": 22,
   "id": "61846158",
   "metadata": {},
   "outputs": [],
   "source": [
    "categorical_columns = ['accident', 'ext_col', 'int_col', 'fuel_type', 'engine', 'brand', 'transmission', 'model']\n",
    "\n",
    "spark = SparkSession.builder.getOrCreate()\n",
    "df_train = spark.read.csv(\"train.csv\", inferSchema='True', header=True)\n",
    "df_test = spark.read.csv(\"test.csv\", inferSchema='True', header=True)\n",
    "\n",
    "preprocessor = BaseDataPreprocessor(categorical_col=categorical_columns)\n",
    "data_for_preprocessor = pd.concat([df_train.toPandas().drop(\"price\", axis=1), df_test.toPandas()], ignore_index=True, sort=False)\n",
    "data_for_preprocessor.iloc[-1] = [314222, \"MINI\", \"Cooper S Base\", 2007, 213000, \"\",\n",
    "                                  \"172.0HP 1.6L 4 Cylinder Engine Gasoline Fuel\", \"A/T\", \"Yellow\", \"Gray\", \"\", \"Yes\"]\n",
    "preprocessor.fit(data_for_preprocessor)\n",
    "\n",
    "X_train_df, y_train = preprocessor.transform(df_train, train=True)\n",
    "X_test_df = preprocessor.transform(df_test)\n",
    "\n",
    "X_train_df[\"age\"] = 2024 - X_train_df[\"model_year\"]\n",
    "X_test_df[\"age\"] = 2024 - X_test_df[\"model_year\"]\n",
    "\n",
    "scaler = StandardScaler()\n",
    "\n",
    "X_train = scaler.fit_transform(X_train_df)\n",
    "X_test = scaler.transform(X_test_df)\n",
    "\n",
    "y_mean = y_train.mean()\n",
    "y_std = y_train.std()\n",
    "y_train = (y_train - y_mean) / y_std\n",
    "\n",
    "spark.stop()"
   ]
  },
  {
   "cell_type": "markdown",
   "id": "5dde8f88",
   "metadata": {},
   "source": [
    "Подберём лучшую модель и параметры для неё."
   ]
  },
  {
   "cell_type": "code",
   "execution_count": 123,
   "id": "012c5a5e",
   "metadata": {},
   "outputs": [
    {
     "name": "stdout",
     "output_type": "stream",
     "text": [
      "{'alpha': 10.0}\n"
     ]
    },
    {
     "data": {
      "text/plain": [
       "(75017.4801525559, 0.6172862345923957)"
      ]
     },
     "execution_count": 123,
     "metadata": {},
     "output_type": "execute_result"
    }
   ],
   "source": [
    "inner_cv = KFold(n_splits=5, shuffle=True, random_state=42)\n",
    "\n",
    "parameters = {\"alpha\":np.logspace(-9, 5, 15)}\n",
    "model = Ridge()\n",
    "\n",
    "grid_search = GridSearchCV(estimator=model, param_grid=parameters, cv=inner_cv, scoring='neg_mean_squared_error')\n",
    "answer = grid_search.fit(X_train, y_train)\n",
    "params = answer.best_params_\n",
    "print(params)\n",
    "\n",
    "model = Ridge(**params)\n",
    "model.fit(X_train, y_train)\n",
    "pred = np.e ** np.e ** (model.predict(X_train) * y_std + y_mean)\n",
    "true = np.e ** np.e **(y_train * y_std + y_mean)\n",
    "root_mean_squared_error(true, pred), root_mean_squared_error(y_train, model.predict(X_train))"
   ]
  },
  {
   "cell_type": "code",
   "execution_count": 124,
   "id": "69a903d3",
   "metadata": {},
   "outputs": [],
   "source": [
    "model.fit(X_train, y_train)\n",
    "coefs = model.coef_\n",
    "n_features = model.n_features_in_\n",
    "names = X_train_df.columns"
   ]
  },
  {
   "cell_type": "code",
   "execution_count": 125,
   "id": "cb7e23ef",
   "metadata": {},
   "outputs": [
    {
     "data": {
      "text/plain": [
       "Text(0.5, 1.0, 'Feature Importance Ridge')"
      ]
     },
     "execution_count": 125,
     "metadata": {},
     "output_type": "execute_result"
    },
    {
     "data": {
      "image/png": "[encoded data removed]",
      "text/plain": [
       "<Figure size 800x1200 with 1 Axes>"
      ]
     },
     "metadata": {},
     "output_type": "display_data"
    }
   ],
   "source": [
    "fig = plt.figure(figsize=(8, 12))\n",
    "\n",
    "sorted_idx = np.argsort(coefs)\n",
    "coefs = coefs[sorted_idx]\n",
    "names = np.array(names)[sorted_idx]\n",
    "\n",
    "plt.barh(range(n_features), coefs, align='center')\n",
    "plt.yticks(range(n_features), names)\n",
    "plt.title('Feature Importance Ridge')"
   ]
  },
  {
   "cell_type": "code",
   "execution_count": 126,
   "id": "ee102740",
   "metadata": {},
   "outputs": [
    {
     "name": "stdout",
     "output_type": "stream",
     "text": [
      "{'criterion': 'squared_error', 'max_depth': 9, 'min_samples_leaf': 4, 'min_samples_split': 3}\n"
     ]
    },
    {
     "data": {
      "text/plain": [
       "(73926.46203669868, 0.5822451204028543)"
      ]
     },
     "execution_count": 126,
     "metadata": {},
     "output_type": "execute_result"
    }
   ],
   "source": [
    "parameters = {\"criterion\":[\"squared_error\"],\n",
    "              \"max_depth\":[7, 9, 11],\n",
    "              \"min_samples_split\":[3, 4],\n",
    "              \"min_samples_leaf\":[2, 3, 4]}\n",
    "\n",
    "model = DecisionTreeRegressor()\n",
    "\n",
    "grid_search = GridSearchCV(estimator=model, param_grid=parameters, cv=inner_cv, scoring='neg_mean_squared_error')\n",
    "answer = grid_search.fit(X_train, y_train)\n",
    "params = answer.best_params_\n",
    "print(params)\n",
    "\n",
    "model = DecisionTreeRegressor(**params)\n",
    "model.fit(X_train, y_train)\n",
    "pred = np.e ** np.e ** (model.predict(X_train) * y_std + y_mean)\n",
    "true = np.e ** np.e **(y_train * y_std + y_mean)\n",
    "root_mean_squared_error(true, pred), root_mean_squared_error(y_train, model.predict(X_train))"
   ]
  },
  {
   "cell_type": "code",
   "execution_count": 127,
   "id": "0ba30492",
   "metadata": {},
   "outputs": [
    {
     "name": "stdout",
     "output_type": "stream",
     "text": [
      "{'criterion': 'squared_error', 'max_depth': 14, 'n_estimators': 300}\n"
     ]
    },
    {
     "data": {
      "text/plain": [
       "(69631.01733175386, 0.48661869218397463)"
      ]
     },
     "execution_count": 127,
     "metadata": {},
     "output_type": "execute_result"
    }
   ],
   "source": [
    "parameters = {\"criterion\":[\"squared_error\"],\n",
    "              \"n_estimators\":[50, 100, 200, 300],\n",
    "              \"max_depth\":[10, 12, 14]}\n",
    "\n",
    "model = RandomForestRegressor()\n",
    "\n",
    "grid_search = GridSearchCV(estimator=model, param_grid=parameters, cv=inner_cv, scoring='neg_mean_squared_error')\n",
    "answer = grid_search.fit(X_train, y_train)\n",
    "params = answer.best_params_\n",
    "print(params)\n",
    "\n",
    "model = RandomForestRegressor(**params)\n",
    "model.fit(X_train, y_train)\n",
    "pred = np.e ** np.e ** (model.predict(X_train) * y_std + y_mean)\n",
    "true = np.e ** np.e **(y_train * y_std + y_mean)\n",
    "root_mean_squared_error(true, pred), root_mean_squared_error(y_train, model.predict(X_train))"
   ]
  },
  {
   "cell_type": "code",
   "execution_count": 128,
   "id": "8c2d06da",
   "metadata": {},
   "outputs": [
    {
     "name": "stdout",
     "output_type": "stream",
     "text": [
      "{'depth': 5, 'iterations': 10000, 'loss_function': 'RMSE'}\n"
     ]
    },
    {
     "data": {
      "text/plain": [
       "(72693.13676029506, 0.5482638713167942)"
      ]
     },
     "execution_count": 128,
     "metadata": {},
     "output_type": "execute_result"
    }
   ],
   "source": [
    "parameters = {\"loss_function\":[\"RMSE\"],\n",
    "              \"iterations\":[5000, 7000, 10000],\n",
    "              \"depth\":[3, 5, 7]}\n",
    "\n",
    "model = CatBoostRegressor(verbose=False, task_type=\"GPU\")\n",
    "\n",
    "grid_search = GridSearchCV(estimator=model, param_grid=parameters, cv=inner_cv, scoring='neg_mean_squared_error')\n",
    "answer = grid_search.fit(X_train, y_train)\n",
    "params = answer.best_params_\n",
    "print(params)\n",
    "\n",
    "model = CatBoostRegressor(**params, verbose=False, task_type=\"GPU\")\n",
    "model.fit(X_train, y_train)\n",
    "pred = np.e ** np.e ** (model.predict(X_train) * y_std + y_mean)\n",
    "true = np.e ** np.e **(y_train * y_std + y_mean)\n",
    "root_mean_squared_error(true, pred), root_mean_squared_error(y_train, model.predict(X_train))"
   ]
  },
  {
   "cell_type": "markdown",
   "id": "a00cd16c",
   "metadata": {},
   "source": [
    "Лучшие значения получились у CatBoost и RandomForest. Теперь попробуем использовать TargetEncoder и опять обучить модели, перебирая параметры по сетке."
   ]
  },
  {
   "cell_type": "code",
   "execution_count": 3,
   "id": "fb120ebd",
   "metadata": {},
   "outputs": [],
   "source": [
    "class DataPreprocessor(sklearn.base.TransformerMixin):\n",
    "    def __init__(self):\n",
    "        pass\n",
    "\n",
    "    def fit(self, *args):\n",
    "        return self\n",
    "        \n",
    "    def transform(self, df, train=False):\n",
    "        df = df.withColumn(\"fuel_type\", when(df[\"fuel_type\"].isNull(), \"\").otherwise(df[\"fuel_type\"]))\n",
    "        df = df.withColumn(\"accident\", when(df[\"accident\"].isNull(), \"\").otherwise(df[\"accident\"]))\n",
    "        df = df.withColumn(\"clean_title\", when(df[\"clean_title\"].isNull(), \"No\").otherwise(df[\"clean_title\"]))\n",
    "     \n",
    "        df = df.toPandas()\n",
    "        \n",
    "        if train:\n",
    "            return df.drop([\"id\", \"price\"], axis=1), np.log(np.log(1 + df[\"price\"]))\n",
    "        else:\n",
    "            return df.drop([\"id\"], axis=1)"
   ]
  },
  {
   "cell_type": "code",
   "execution_count": 4,
   "id": "cb61b7b3",
   "metadata": {},
   "outputs": [],
   "source": [
    "categorical_columns = ['accident', 'ext_col', 'int_col', 'fuel_type', 'engine', 'brand', 'transmission', 'model', \"clean_title\"]\n",
    "\n",
    "preprocessor = DataPreprocessor()\n",
    "\n",
    "spark = SparkSession.builder.getOrCreate()\n",
    "\n",
    "df_train = spark.read.csv(\"train.csv\", inferSchema='True', header=True)\n",
    "df_test = spark.read.csv(\"test.csv\", inferSchema='True', header=True)\n",
    "\n",
    "X_train_df, y_train = preprocessor.transform(df_train, train=True)\n",
    "X_test_df = preprocessor.transform(df_test)\n",
    "\n",
    "X_train_df[\"age\"] = 2024 - X_train_df[\"model_year\"]\n",
    "X_test_df[\"age\"] = 2024 - X_test_df[\"model_year\"]\n",
    "\n",
    "y_mean = y_train.mean()\n",
    "y_std = y_train.std()\n",
    "y_train = (y_train - y_mean) / y_std"
   ]
  },
  {
   "cell_type": "code",
   "execution_count": 5,
   "id": "c7aeed98",
   "metadata": {},
   "outputs": [],
   "source": [
    "te = TargetEncoder(cols=categorical_columns)\n",
    "te.fit(X_train_df, y_train)\n",
    "X_train = te.transform(X_train_df)\n",
    "X_test = te.transform(X_test_df)\n",
    "\n",
    "scaler = StandardScaler()\n",
    "\n",
    "X_train = scaler.fit_transform(X_train)\n",
    "X_test = scaler.transform(X_test)"
   ]
  },
  {
   "cell_type": "code",
   "execution_count": 6,
   "id": "bc53432c",
   "metadata": {},
   "outputs": [],
   "source": [
    "def find_best(my_pipeline, params_dict, x, y):\n",
    "    inner_cv = KFold(n_splits=10, shuffle=True, random_state=42)\n",
    "\n",
    "    grid_search = GridSearchCV(estimator=pipeline, param_grid=params_dict, cv=inner_cv, scoring='neg_mean_squared_error')\n",
    "    grid_search.fit(x, y)\n",
    "\n",
    "    params = {}\n",
    "    for key in grid_search.best_params_:\n",
    "        params[key[7:]] = grid_search.best_params_[key]\n",
    "\n",
    "    return params, grid_search.best_score_"
   ]
  },
  {
   "cell_type": "code",
   "execution_count": 134,
   "id": "2798680d",
   "metadata": {},
   "outputs": [
    {
     "name": "stdout",
     "output_type": "stream",
     "text": [
      "{'alpha': 1e-09}\n"
     ]
    },
    {
     "data": {
      "text/plain": [
       "(74336.85466444497, 0.6079900631869575)"
      ]
     },
     "execution_count": 134,
     "metadata": {},
     "output_type": "execute_result"
    }
   ],
   "source": [
    "pipeline = Pipeline([\n",
    "    ('target_encoder', TargetEncoder(cols=categorical_columns)),\n",
    "    ('scaler', StandardScaler()),\n",
    "    ('model', Ridge())\n",
    "])\n",
    "\n",
    "param_grid = {'model__alpha':np.logspace(-9, 5, 15)}\n",
    "\n",
    "params, best_score = find_best(pipeline, param_grid, X_train_df, y_train)\n",
    "\n",
    "print(params)\n",
    "\n",
    "model = Ridge(**params)\n",
    "model.fit(X_train, y_train)\n",
    "pred = np.e ** np.e ** (model.predict(X_train) * y_std + y_mean)\n",
    "true = np.e ** np.e **(y_train * y_std + y_mean)\n",
    "root_mean_squared_error(true, pred), root_mean_squared_error(y_train, model.predict(X_train))"
   ]
  },
  {
   "cell_type": "code",
   "execution_count": 135,
   "id": "dfa1ed12",
   "metadata": {},
   "outputs": [
    {
     "name": "stdout",
     "output_type": "stream",
     "text": [
      "{'criterion': 'squared_error', 'max_depth': 7, 'min_samples_leaf': 3, 'min_samples_split': 4}\n"
     ]
    },
    {
     "data": {
      "text/plain": [
       "(73760.57176059147, 0.5936114298540511)"
      ]
     },
     "execution_count": 135,
     "metadata": {},
     "output_type": "execute_result"
    }
   ],
   "source": [
    "pipeline = Pipeline([\n",
    "    ('target_encoder', TargetEncoder(cols=categorical_columns)),\n",
    "    ('scaler', StandardScaler()),\n",
    "    ('model', DecisionTreeRegressor())\n",
    "])\n",
    "\n",
    "param_grid = {\"model__criterion\":[\"squared_error\"],\n",
    "              \"model__max_depth\":[5, 6, 7],\n",
    "              \"model__min_samples_split\":[3, 4],\n",
    "              \"model__min_samples_leaf\":[2, 3, 4]}\n",
    "\n",
    "params, best_score = find_best(pipeline, param_grid, X_train_df, y_train)\n",
    "\n",
    "print(params)\n",
    "\n",
    "model = DecisionTreeRegressor(**params)\n",
    "model.fit(X_train, y_train)\n",
    "pred = np.e ** np.e ** (model.predict(X_train) * y_std + y_mean)\n",
    "true = np.e ** np.e **(y_train * y_std + y_mean)\n",
    "root_mean_squared_error(true, pred), root_mean_squared_error(y_train, model.predict(X_train))"
   ]
  },
  {
   "cell_type": "code",
   "execution_count": 7,
   "id": "d139216e",
   "metadata": {},
   "outputs": [
    {
     "name": "stdout",
     "output_type": "stream",
     "text": [
      "{'criterion': 'squared_error', 'max_depth': 14, 'n_estimators': 300}\n"
     ]
    },
    {
     "data": {
      "text/plain": [
       "(68828.97183938617, 0.49425845743780356)"
      ]
     },
     "execution_count": 7,
     "metadata": {},
     "output_type": "execute_result"
    }
   ],
   "source": [
    "pipeline = Pipeline([\n",
    "    ('target_encoder', TargetEncoder(cols=categorical_columns)),\n",
    "    ('scaler', StandardScaler()),\n",
    "    ('model', RandomForestRegressor(n_jobs=-1))\n",
    "])\n",
    "\n",
    "param_grid = {\"model__criterion\":[\"squared_error\"],\n",
    "              \"model__n_estimators\":[100, 200, 300],\n",
    "              \"model__max_depth\":[12, 14, 16]}\n",
    "\n",
    "params, best_score = find_best(pipeline, param_grid, X_train_df, y_train)\n",
    "\n",
    "print(params)\n",
    "\n",
    "model = RandomForestRegressor(**params, n_jobs=-1)\n",
    "model.fit(X_train, y_train)\n",
    "pred = np.e ** np.e ** (model.predict(X_train) * y_std + y_mean)\n",
    "true = np.e ** np.e **(y_train * y_std + y_mean)\n",
    "root_mean_squared_error(true, pred), root_mean_squared_error(y_train, model.predict(X_train))"
   ]
  },
  {
   "cell_type": "code",
   "execution_count": 6,
   "id": "0cf1e55e",
   "metadata": {},
   "outputs": [
    {
     "name": "stdout",
     "output_type": "stream",
     "text": [
      "{'depth': 7, 'iterations': 5000, 'loss_function': 'RMSE'}\n"
     ]
    },
    {
     "data": {
      "text/plain": [
       "(71204.55576015309, 0.5307271594257182)"
      ]
     },
     "execution_count": 6,
     "metadata": {},
     "output_type": "execute_result"
    }
   ],
   "source": [
    "pipeline = Pipeline([\n",
    "    ('target_encoder', TargetEncoder(cols=categorical_columns)),\n",
    "    ('scaler', StandardScaler()),\n",
    "    ('model', CatBoostRegressor(verbose=False, task_type=\"GPU\"))\n",
    "])\n",
    "\n",
    "param_grid = {\"model__loss_function\":[\"RMSE\"],\n",
    "              \"model__iterations\":[5000, 7000, 9000],\n",
    "              \"model__depth\":[3, 5, 7]}\n",
    "\n",
    "params, best_score = find_best(pipeline, param_grid, X_train_df, y_train)\n",
    "\n",
    "print(params)\n",
    "\n",
    "model = CatBoostRegressor(**params, verbose=False, task_type=\"GPU\")\n",
    "model.fit(X_train, y_train)\n",
    "pred = np.e ** np.e ** (model.predict(X_train) * y_std + y_mean)\n",
    "true = np.e ** np.e **(y_train * y_std + y_mean)\n",
    "root_mean_squared_error(true, pred), root_mean_squared_error(y_train, model.predict(X_train))"
   ]
  },
  {
   "cell_type": "code",
   "execution_count": 7,
   "id": "dfaf75a9",
   "metadata": {},
   "outputs": [
    {
     "name": "stdout",
     "output_type": "stream",
     "text": [
      "{'learning_rate': 0.05, 'max_depth': 4, 'metric': 'rmse', 'n_estimators': 2500}\n"
     ]
    },
    {
     "data": {
      "text/plain": [
       "(72387.24039929028, 0.5484542816476167)"
      ]
     },
     "execution_count": 7,
     "metadata": {},
     "output_type": "execute_result"
    }
   ],
   "source": [
    "pipeline = Pipeline([\n",
    "    ('target_encoder', TargetEncoder(cols=categorical_columns)),\n",
    "    ('scaler', StandardScaler()),\n",
    "    ('model', LGBMRegressor(verbose=-1))\n",
    "])\n",
    "\n",
    "param_grid = {'model__metric':['rmse'],\n",
    "              'model__max_depth':[4, 5, 6], \n",
    "              'model__learning_rate':[0.01, 0.05, 0.1], \n",
    "              'model__n_estimators':[1000, 2500, 5000]} \n",
    "\n",
    "params, best_score = find_best(pipeline, param_grid, X_train_df, y_train)\n",
    "\n",
    "print(params)\n",
    "\n",
    "model = LGBMRegressor(**params, verbose=-1)\n",
    "model.fit(X_train, y_train)\n",
    "pred = np.e ** np.e ** (model.predict(X_train) * y_std + y_mean)\n",
    "true = np.e ** np.e **(y_train * y_std + y_mean)\n",
    "root_mean_squared_error(true, pred), root_mean_squared_error(y_train, model.predict(X_train))"
   ]
  },
  {
   "cell_type": "markdown",
   "id": "f4ce4061",
   "metadata": {},
   "source": [
    "Лучшие параметры получил CatBoost. Замерим результат"
   ]
  },
  {
   "cell_type": "code",
   "execution_count": 8,
   "id": "66f3b029",
   "metadata": {},
   "outputs": [],
   "source": [
    "params = {'depth': 7, 'iterations': 5000, 'loss_function': 'RMSE'}\n",
    "model = CatBoostRegressor(**params, verbose=False, task_type=\"GPU\")\n",
    "model.fit(X_train, y_train)\n",
    "pred = np.e ** np.e ** (model.predict(X_test) * y_std + y_mean)"
   ]
  },
  {
   "cell_type": "code",
   "execution_count": 9,
   "id": "7710e5f9",
   "metadata": {},
   "outputs": [],
   "source": [
    "df_answer = pd.read_csv(\"sample_submission.csv\", header=0, index_col=0)\n",
    "df_answer[\"price\"] = pred\n",
    "df_answer.to_csv(\"answer.csv\")"
   ]
  },
  {
   "cell_type": "markdown",
   "id": "821b65bb",
   "metadata": {},
   "source": [
    "Объединим предсказания CatBoost, LGBM, RandomForest в одно и замерим результаты."
   ]
  },
  {
   "cell_type": "code",
   "execution_count": 10,
   "id": "79cc9807",
   "metadata": {},
   "outputs": [],
   "source": [
    "model_CB = CatBoostRegressor(verbose=False, task_type=\"GPU\", **{'depth': 7, 'iterations': 5000,\n",
    "                                                                'loss_function': 'RMSE'})\n",
    "model_RF = RandomForestRegressor(n_jobs=-1, **{'criterion': 'squared_error',\n",
    "                                               'max_depth': 14, 'n_estimators': 300})\n",
    "model_LG = LGBMRegressor(verbose=-1, **{'learning_rate': 0.05, 'max_depth': 4,\n",
    "                                        'metric': 'rmse', 'n_estimators': 2500})\n",
    "\n",
    "model_CB.fit(X_train, y_train)\n",
    "model_RF.fit(X_train, y_train)\n",
    "model_LG.fit(X_train, y_train)\n",
    "\n",
    "pred = (model_CB.predict(X_test) + model_CB.predict(X_test) + model_LG.predict(X_test)) / 3\n",
    "pred = np.e ** np.e ** (pred * y_std + y_mean)"
   ]
  },
  {
   "cell_type": "code",
   "execution_count": 11,
   "id": "c61f4694",
   "metadata": {},
   "outputs": [],
   "source": [
    "df_answer = pd.read_csv(\"sample_submission.csv\", header=0, index_col=0)\n",
    "df_answer[\"price\"] = pred\n",
    "df_answer.to_csv(\"answer.csv\")"
   ]
  },
  {
   "cell_type": "markdown",
   "id": "72dbbe68",
   "metadata": {},
   "source": [
    "Напоследок обучим простую нейросеть и замерим результаты."
   ]
  },
  {
   "cell_type": "code",
   "execution_count": 12,
   "id": "efffa283",
   "metadata": {},
   "outputs": [],
   "source": [
    "import torch\n",
    "import torch.nn as nn\n",
    "from sklearn.model_selection import train_test_split\n",
    "from torch.utils.data import DataLoader, TensorDataset\n",
    "from torch.optim.lr_scheduler import LambdaLR\n",
    "from tqdm import tqdm"
   ]
  },
  {
   "cell_type": "code",
   "execution_count": 46,
   "id": "e33a03ed",
   "metadata": {},
   "outputs": [],
   "source": [
    "categorical_columns = ['accident', 'ext_col', 'int_col', 'fuel_type', 'engine', 'brand', 'transmission', 'model', \"clean_title\"]\n",
    "\n",
    "preprocessor = DataPreprocessor()\n",
    "\n",
    "spark = SparkSession.builder.getOrCreate()\n",
    "\n",
    "df_train = spark.read.csv(\"train.csv\", inferSchema='True', header=True)\n",
    "df_test = spark.read.csv(\"test.csv\", inferSchema='True', header=True)\n",
    "\n",
    "X_train_df, y_train = preprocessor.transform(df_train, train=True)\n",
    "X_test_df = preprocessor.transform(df_test)\n",
    "\n",
    "X_train_df[\"age\"] = 2024 - X_train_df[\"model_year\"]\n",
    "X_test_df[\"age\"] = 2024 - X_test_df[\"model_year\"]\n",
    "\n",
    "y_mean = y_train.mean()\n",
    "y_std = y_train.std()\n",
    "y_train = (y_train - y_mean) / y_std\n",
    "\n",
    "te = TargetEncoder(cols=categorical_columns)\n",
    "te.fit(X_train_df, y_train)\n",
    "X_train = te.transform(X_train_df)\n",
    "X_test = te.transform(X_test_df)\n",
    "\n",
    "scaler = StandardScaler()\n",
    "\n",
    "X_train = scaler.fit_transform(X_train)\n",
    "X_test = scaler.transform(X_test)"
   ]
  },
  {
   "cell_type": "code",
   "execution_count": 14,
   "id": "5b3f03e4",
   "metadata": {},
   "outputs": [],
   "source": [
    "class my_net(torch.nn.Module):\n",
    "    def __init__(self):\n",
    "        super(my_net, self).__init__()\n",
    "        self.act = nn.ReLU()\n",
    "        self.drop_out = nn.Dropout(0.1)\n",
    "        \n",
    "        self.fc1 = nn.Linear(12, 512)\n",
    "        self.norm1 = nn.BatchNorm1d(512)\n",
    "        self.fc2 = nn.Linear(512, 2024)\n",
    "        self.norm2 = nn.BatchNorm1d(2024)\n",
    "        self.fc3 = nn.Linear(2024, 512)\n",
    "        self.norm3 = nn.BatchNorm1d(512)\n",
    "        self.fc4 = nn.Linear(512, 64)\n",
    "        self.norm4 = nn.BatchNorm1d(64)\n",
    "        self.fc5 = nn.Linear(64, 1)\n",
    "        \n",
    "    def forward(self, x):\n",
    "        x = self.fc1(x)\n",
    "        x = self.act(x)\n",
    "        x = self.norm1(x)\n",
    "        x = self.drop_out(x)\n",
    "        \n",
    "        x = self.fc2(x)\n",
    "        x = self.act(x)\n",
    "        x = self.norm2(x)\n",
    "        x = self.drop_out(x)\n",
    "        \n",
    "        x = self.fc3(x)\n",
    "        x = self.act(x)\n",
    "        x = self.norm3(x)\n",
    "        x = self.drop_out(x)\n",
    "        \n",
    "        x = self.fc4(x)\n",
    "        x = self.act(x)\n",
    "        x = self.norm4(x)\n",
    "        x = self.drop_out(x)\n",
    "        \n",
    "        x = self.fc5(x)\n",
    "        return x"
   ]
  },
  {
   "cell_type": "code",
   "execution_count": 15,
   "id": "bf202748",
   "metadata": {},
   "outputs": [],
   "source": [
    "X_train, X_test, y_train, y_test = train_test_split(X_train, np.array(y_train), test_size=0.1, random_state=42)"
   ]
  },
  {
   "cell_type": "code",
   "execution_count": 16,
   "id": "db681ab8",
   "metadata": {},
   "outputs": [],
   "source": [
    "train_dataset = TensorDataset(torch.tensor(X_train), torch.tensor(y_train))\n",
    "test_dataset = TensorDataset(torch.tensor(X_test), torch.tensor(y_test))\n",
    "\n",
    "batch_size = 128\n",
    "train_loader = DataLoader(train_dataset, batch_size=batch_size, shuffle=True)\n",
    "test_loader = DataLoader(test_dataset, batch_size=batch_size, shuffle=True)\n"
   ]
  },
  {
   "cell_type": "code",
   "execution_count": 17,
   "id": "94bb5bbb",
   "metadata": {},
   "outputs": [
    {
     "data": {
      "text/plain": [
       "(1326, 148)"
      ]
     },
     "execution_count": 17,
     "metadata": {},
     "output_type": "execute_result"
    }
   ],
   "source": [
    "len(train_loader), len(test_loader)"
   ]
  },
  {
   "cell_type": "code",
   "execution_count": 35,
   "id": "a4ba7b93",
   "metadata": {},
   "outputs": [
    {
     "name": "stdout",
     "output_type": "stream",
     "text": [
      "cuda:0\n",
      "Кол-во парраметров =  2120889\n"
     ]
    },
    {
     "name": "stderr",
     "output_type": "stream",
     "text": [
      "100%|██████████████████████████████████████████████████████████████████████████████████████████████████████████████████████████████████████████████| 10/10 [00:48<00:00,  4.82s/it]\n"
     ]
    }
   ],
   "source": [
    "loss_memory = []\n",
    "model = my_net()\n",
    "device = torch.device('cuda:0' if torch.cuda.is_available() else 'cpu')\n",
    "print(device)\n",
    "model = model.to(device)\n",
    "best_model = model\n",
    "\n",
    "print(\"Кол-во парраметров = \", sum(p.numel() for p in model.parameters() if p.requires_grad))\n",
    "\n",
    "criterion = nn.MSELoss()\n",
    "optimizer = torch.optim.Adam(model.parameters(), lr=1.0e-3)\n",
    "\n",
    "lambda1 = lambda epoch: 0.9 ** epoch\n",
    "scheduler = LambdaLR(optimizer, lr_lambda=lambda1)\n",
    "\n",
    "for epoch in tqdm(range(10)):\n",
    "    loss_list = []\n",
    "\n",
    "    for batch in train_loader:\n",
    "        data = batch[0]\n",
    "        labels = batch[1]\n",
    "        preds = model.forward(data.to(device).float()).reshape(-1)\n",
    "\n",
    "        loss_batch = torch.sqrt(criterion(preds, labels.to(device).float()))\n",
    "\n",
    "        loss_batch.backward()\n",
    "        optimizer.step()\n",
    "        optimizer.zero_grad()\n",
    "\n",
    "    for batch in test_loader:\n",
    "        with torch.no_grad():\n",
    "            data = batch[0]\n",
    "            labels = batch[1]\n",
    "            preds = model.forward(data.to(device).float()).reshape(-1)\n",
    "        \n",
    "            loss_list.append(torch.sqrt(criterion(preds, labels.to(device).float())).item())\n",
    "\n",
    "    loss = (sum(loss_list) / len(loss_list))\n",
    "    if len(loss_memory) == 0 or loss < min(loss_memory):\n",
    "        best_model = model\n",
    "    loss_memory.append(loss)\n",
    "    scheduler.step()"
   ]
  },
  {
   "cell_type": "code",
   "execution_count": 47,
   "id": "6588747e",
   "metadata": {},
   "outputs": [
    {
     "data": {
      "text/plain": [
       "73908.53649246946"
      ]
     },
     "execution_count": 47,
     "metadata": {},
     "output_type": "execute_result"
    }
   ],
   "source": [
    "with torch.no_grad():\n",
    "    model = best_model\n",
    "    pred = np.e ** np.e ** (np.array(model(torch.tensor(X_train).to(device).float()).to(\"cpu\")) * y_std + y_mean)\n",
    "    true = np.e ** np.e ** (y_train * y_std + y_mean)\n",
    "root_mean_squared_error(true, pred)"
   ]
  },
  {
   "cell_type": "code",
   "execution_count": 48,
   "id": "e8a06d8a",
   "metadata": {},
   "outputs": [],
   "source": [
    "with torch.no_grad():\n",
    "    answer = np.e ** np.e ** (np.array(model(torch.tensor(X_test).to(device).float()).to(\"cpu\")) * y_std + y_mean)"
   ]
  },
  {
   "cell_type": "code",
   "execution_count": 49,
   "id": "bd802b29",
   "metadata": {},
   "outputs": [],
   "source": [
    "df_answer = pd.read_csv(\"sample_submission.csv\", header=0, index_col=0)\n",
    "df_answer[\"price\"] = answer\n",
    "df_answer.to_csv(\"answer.csv\")"
   ]
  },
  {
   "cell_type": "code",
   "execution_count": null,
   "id": "2e0d118a",
   "metadata": {},
   "outputs": [],
   "source": []
  }
 ],
 "metadata": {
  "kernelspec": {
   "display_name": "Python (GPU)",
   "language": "python",
   "name": "gpu_env"
  },
  "language_info": {
   "codemirror_mode": {
    "name": "ipython",
    "version": 3
   },
   "file_extension": ".py",
   "mimetype": "text/x-python",
   "name": "python",
   "nbconvert_exporter": "python",
   "pygments_lexer": "ipython3",
   "version": "3.10.0"
  }
 },
 "nbformat": 4,
 "nbformat_minor": 5
}
