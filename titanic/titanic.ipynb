{
 "cells": [
  {
   "cell_type": "code",
   "execution_count": 1,
   "id": "1458e0c3-30c5-4be5-a81a-5ae12fee0d08",
   "metadata": {},
   "outputs": [],
   "source": [
    "import numpy as np\n",
    "import pandas as pd\n",
    "import matplotlib.pyplot as plt"
   ]
  },
  {
   "cell_type": "markdown",
   "id": "88de0aa4-3196-4e32-abbf-65652913f5fe",
   "metadata": {},
   "source": [
    "### Задача бинарной классификации. Метрика - accuracy"
   ]
  },
  {
   "cell_type": "code",
   "execution_count": 2,
   "id": "cf425f6b-9fc8-4549-891b-e47e52f0b026",
   "metadata": {},
   "outputs": [
    {
     "data": {
      "text/html": [
       "<div>\n",
       "<style scoped>\n",
       "    .dataframe tbody tr th:only-of-type {\n",
       "        vertical-align: middle;\n",
       "    }\n",
       "\n",
       "    .dataframe tbody tr th {\n",
       "        vertical-align: top;\n",
       "    }\n",
       "\n",
       "    .dataframe thead th {\n",
       "        text-align: right;\n",
       "    }\n",
       "</style>\n",
       "<table border=\"1\" class=\"dataframe\">\n",
       "  <thead>\n",
       "    <tr style=\"text-align: right;\">\n",
       "      <th></th>\n",
       "      <th>Survived</th>\n",
       "      <th>Pclass</th>\n",
       "      <th>Name</th>\n",
       "      <th>Sex</th>\n",
       "      <th>Age</th>\n",
       "      <th>SibSp</th>\n",
       "      <th>Parch</th>\n",
       "      <th>Ticket</th>\n",
       "      <th>Fare</th>\n",
       "      <th>Cabin</th>\n",
       "      <th>Embarked</th>\n",
       "    </tr>\n",
       "    <tr>\n",
       "      <th>PassengerId</th>\n",
       "      <th></th>\n",
       "      <th></th>\n",
       "      <th></th>\n",
       "      <th></th>\n",
       "      <th></th>\n",
       "      <th></th>\n",
       "      <th></th>\n",
       "      <th></th>\n",
       "      <th></th>\n",
       "      <th></th>\n",
       "      <th></th>\n",
       "    </tr>\n",
       "  </thead>\n",
       "  <tbody>\n",
       "    <tr>\n",
       "      <th>1</th>\n",
       "      <td>0</td>\n",
       "      <td>3</td>\n",
       "      <td>Braund, Mr. Owen Harris</td>\n",
       "      <td>male</td>\n",
       "      <td>22.0</td>\n",
       "      <td>1</td>\n",
       "      <td>0</td>\n",
       "      <td>A/5 21171</td>\n",
       "      <td>7.2500</td>\n",
       "      <td>NaN</td>\n",
       "      <td>S</td>\n",
       "    </tr>\n",
       "    <tr>\n",
       "      <th>2</th>\n",
       "      <td>1</td>\n",
       "      <td>1</td>\n",
       "      <td>Cumings, Mrs. John Bradley (Florence Briggs Th...</td>\n",
       "      <td>female</td>\n",
       "      <td>38.0</td>\n",
       "      <td>1</td>\n",
       "      <td>0</td>\n",
       "      <td>PC 17599</td>\n",
       "      <td>71.2833</td>\n",
       "      <td>C85</td>\n",
       "      <td>C</td>\n",
       "    </tr>\n",
       "    <tr>\n",
       "      <th>3</th>\n",
       "      <td>1</td>\n",
       "      <td>3</td>\n",
       "      <td>Heikkinen, Miss. Laina</td>\n",
       "      <td>female</td>\n",
       "      <td>26.0</td>\n",
       "      <td>0</td>\n",
       "      <td>0</td>\n",
       "      <td>STON/O2. 3101282</td>\n",
       "      <td>7.9250</td>\n",
       "      <td>NaN</td>\n",
       "      <td>S</td>\n",
       "    </tr>\n",
       "    <tr>\n",
       "      <th>4</th>\n",
       "      <td>1</td>\n",
       "      <td>1</td>\n",
       "      <td>Futrelle, Mrs. Jacques Heath (Lily May Peel)</td>\n",
       "      <td>female</td>\n",
       "      <td>35.0</td>\n",
       "      <td>1</td>\n",
       "      <td>0</td>\n",
       "      <td>113803</td>\n",
       "      <td>53.1000</td>\n",
       "      <td>C123</td>\n",
       "      <td>S</td>\n",
       "    </tr>\n",
       "    <tr>\n",
       "      <th>5</th>\n",
       "      <td>0</td>\n",
       "      <td>3</td>\n",
       "      <td>Allen, Mr. William Henry</td>\n",
       "      <td>male</td>\n",
       "      <td>35.0</td>\n",
       "      <td>0</td>\n",
       "      <td>0</td>\n",
       "      <td>373450</td>\n",
       "      <td>8.0500</td>\n",
       "      <td>NaN</td>\n",
       "      <td>S</td>\n",
       "    </tr>\n",
       "  </tbody>\n",
       "</table>\n",
       "</div>"
      ],
      "text/plain": [
       "             Survived  Pclass  \\\n",
       "PassengerId                     \n",
       "1                   0       3   \n",
       "2                   1       1   \n",
       "3                   1       3   \n",
       "4                   1       1   \n",
       "5                   0       3   \n",
       "\n",
       "                                                          Name     Sex   Age  \\\n",
       "PassengerId                                                                    \n",
       "1                                      Braund, Mr. Owen Harris    male  22.0   \n",
       "2            Cumings, Mrs. John Bradley (Florence Briggs Th...  female  38.0   \n",
       "3                                       Heikkinen, Miss. Laina  female  26.0   \n",
       "4                 Futrelle, Mrs. Jacques Heath (Lily May Peel)  female  35.0   \n",
       "5                                     Allen, Mr. William Henry    male  35.0   \n",
       "\n",
       "             SibSp  Parch            Ticket     Fare Cabin Embarked  \n",
       "PassengerId                                                          \n",
       "1                1      0         A/5 21171   7.2500   NaN        S  \n",
       "2                1      0          PC 17599  71.2833   C85        C  \n",
       "3                0      0  STON/O2. 3101282   7.9250   NaN        S  \n",
       "4                1      0            113803  53.1000  C123        S  \n",
       "5                0      0            373450   8.0500   NaN        S  "
      ]
     },
     "execution_count": 2,
     "metadata": {},
     "output_type": "execute_result"
    }
   ],
   "source": [
    "df = pd.read_csv(\"train.csv\", index_col=\"PassengerId\")\n",
    "df.head()"
   ]
  },
  {
   "cell_type": "markdown",
   "id": "d08f4778-cccc-43af-a90f-d72ec10be4c0",
   "metadata": {},
   "source": [
    "### Выделю target в отдельную переменную и удалю колонки, которые нам никак не помогут(имя пассажира, номер билета). Объединим количeство родственников в одну колонку"
   ]
  },
  {
   "cell_type": "code",
   "execution_count": 3,
   "id": "18ced342-e149-4c4c-b3ce-95e1a548255b",
   "metadata": {},
   "outputs": [],
   "source": [
    "y = np.array(df[\"Survived\"])"
   ]
  },
  {
   "cell_type": "code",
   "execution_count": 4,
   "id": "bdb9a7e4-7d70-454e-9e74-96d7589a3e4a",
   "metadata": {},
   "outputs": [
    {
     "data": {
      "text/html": [
       "<div>\n",
       "<style scoped>\n",
       "    .dataframe tbody tr th:only-of-type {\n",
       "        vertical-align: middle;\n",
       "    }\n",
       "\n",
       "    .dataframe tbody tr th {\n",
       "        vertical-align: top;\n",
       "    }\n",
       "\n",
       "    .dataframe thead th {\n",
       "        text-align: right;\n",
       "    }\n",
       "</style>\n",
       "<table border=\"1\" class=\"dataframe\">\n",
       "  <thead>\n",
       "    <tr style=\"text-align: right;\">\n",
       "      <th></th>\n",
       "      <th>Survived</th>\n",
       "      <th>Pclass</th>\n",
       "      <th>Sex</th>\n",
       "      <th>Age</th>\n",
       "      <th>SibSp</th>\n",
       "      <th>Fare</th>\n",
       "      <th>Cabin</th>\n",
       "      <th>Embarked</th>\n",
       "    </tr>\n",
       "    <tr>\n",
       "      <th>PassengerId</th>\n",
       "      <th></th>\n",
       "      <th></th>\n",
       "      <th></th>\n",
       "      <th></th>\n",
       "      <th></th>\n",
       "      <th></th>\n",
       "      <th></th>\n",
       "      <th></th>\n",
       "    </tr>\n",
       "  </thead>\n",
       "  <tbody>\n",
       "    <tr>\n",
       "      <th>1</th>\n",
       "      <td>0</td>\n",
       "      <td>3</td>\n",
       "      <td>male</td>\n",
       "      <td>22.0</td>\n",
       "      <td>1</td>\n",
       "      <td>7.2500</td>\n",
       "      <td>NaN</td>\n",
       "      <td>S</td>\n",
       "    </tr>\n",
       "    <tr>\n",
       "      <th>2</th>\n",
       "      <td>1</td>\n",
       "      <td>1</td>\n",
       "      <td>female</td>\n",
       "      <td>38.0</td>\n",
       "      <td>1</td>\n",
       "      <td>71.2833</td>\n",
       "      <td>C85</td>\n",
       "      <td>C</td>\n",
       "    </tr>\n",
       "    <tr>\n",
       "      <th>3</th>\n",
       "      <td>1</td>\n",
       "      <td>3</td>\n",
       "      <td>female</td>\n",
       "      <td>26.0</td>\n",
       "      <td>0</td>\n",
       "      <td>7.9250</td>\n",
       "      <td>NaN</td>\n",
       "      <td>S</td>\n",
       "    </tr>\n",
       "    <tr>\n",
       "      <th>4</th>\n",
       "      <td>1</td>\n",
       "      <td>1</td>\n",
       "      <td>female</td>\n",
       "      <td>35.0</td>\n",
       "      <td>1</td>\n",
       "      <td>53.1000</td>\n",
       "      <td>C123</td>\n",
       "      <td>S</td>\n",
       "    </tr>\n",
       "    <tr>\n",
       "      <th>5</th>\n",
       "      <td>0</td>\n",
       "      <td>3</td>\n",
       "      <td>male</td>\n",
       "      <td>35.0</td>\n",
       "      <td>0</td>\n",
       "      <td>8.0500</td>\n",
       "      <td>NaN</td>\n",
       "      <td>S</td>\n",
       "    </tr>\n",
       "  </tbody>\n",
       "</table>\n",
       "</div>"
      ],
      "text/plain": [
       "             Survived  Pclass     Sex   Age  SibSp     Fare Cabin Embarked\n",
       "PassengerId                                                               \n",
       "1                   0       3    male  22.0      1   7.2500   NaN        S\n",
       "2                   1       1  female  38.0      1  71.2833   C85        C\n",
       "3                   1       3  female  26.0      0   7.9250   NaN        S\n",
       "4                   1       1  female  35.0      1  53.1000  C123        S\n",
       "5                   0       3    male  35.0      0   8.0500   NaN        S"
      ]
     },
     "execution_count": 4,
     "metadata": {},
     "output_type": "execute_result"
    }
   ],
   "source": [
    "df['SibSp'] = df.loc[:,['SibSp','Parch']].sum(axis=1)\n",
    "df = df.drop([\"Name\", \"Ticket\", \"Parch\"], axis=1)\n",
    "df.head()"
   ]
  },
  {
   "cell_type": "markdown",
   "id": "d51cffc1-5cb8-46db-a496-f238766937a8",
   "metadata": {},
   "source": [
    "### Смотрим сколько \"Null\" в данных"
   ]
  },
  {
   "cell_type": "code",
   "execution_count": 5,
   "id": "7f8c25c8-ada0-41b8-963b-cb4ff60d16aa",
   "metadata": {},
   "outputs": [
    {
     "data": {
      "text/plain": [
       "Survived      0\n",
       "Pclass        0\n",
       "Sex           0\n",
       "Age         177\n",
       "SibSp         0\n",
       "Fare          0\n",
       "Cabin       687\n",
       "Embarked      2\n",
       "dtype: int64"
      ]
     },
     "execution_count": 5,
     "metadata": {},
     "output_type": "execute_result"
    }
   ],
   "source": [
    "df.isna().sum()"
   ]
  },
  {
   "cell_type": "markdown",
   "id": "e238f9ef-bd24-44bb-b93f-9f06b9889fdb",
   "metadata": {},
   "source": [
    "### Изменяю номер каюты на номер палубы (от 1 до 7, сверху вних)"
   ]
  },
  {
   "cell_type": "code",
   "execution_count": 6,
   "id": "7db6b278-4a6e-47c5-9f01-c53b0bc19a9a",
   "metadata": {},
   "outputs": [],
   "source": [
    "arr_letter = [\"A\", \"B\", \"C\", \"D\", \"E\", \"F\", \"G\"]\n",
    "for i in range(1, len(df) + 1):\n",
    "    if not pd.isnull(df.loc[i][\"Cabin\"]) and df.loc[i][\"Cabin\"][0] in arr_letter:\n",
    "        df.loc[i, \"Cabin\"] = float(arr_letter.index(df.loc[i, \"Cabin\"][0])) + 1.0\n",
    "    else:\n",
    "        df.loc[i, \"Cabin\"] = None"
   ]
  },
  {
   "cell_type": "markdown",
   "id": "44bccf57-cddc-4276-a029-4a6f18e8ff73",
   "metadata": {},
   "source": [
    "### Подсчитываю среднее для номера этажа, где расположена каюта и средний возраст, сортируя данные по классам билетов. Изменяю Null на соответствующие средние"
   ]
  },
  {
   "cell_type": "code",
   "execution_count": 7,
   "id": "7d68784d-7882-42ae-94b9-fb55010173f1",
   "metadata": {},
   "outputs": [
    {
     "data": {
      "text/plain": [
       "({1: 3.01, 2: 5.25, 3: 6.08}, {1: 38, 2: 30, 3: 25})"
      ]
     },
     "execution_count": 7,
     "metadata": {},
     "output_type": "execute_result"
    }
   ],
   "source": [
    "cabin_class_dict = {}\n",
    "age_class_dict = {}\n",
    "for i in range(1, 4):\n",
    "    cabin_class_dict[i] = round(df[(df[\"Pclass\"] == i) & (df[\"Cabin\"].notna())][\"Cabin\"].mean(), 2)\n",
    "    age_class_dict[i] = round(df[(df[\"Pclass\"] == i) & (df[\"Age\"].notna())][\"Age\"].mean())\n",
    "cabin_class_dict, age_class_dict"
   ]
  },
  {
   "cell_type": "code",
   "execution_count": 8,
   "id": "7538e946-176e-481b-9d6d-af0a2be28756",
   "metadata": {},
   "outputs": [
    {
     "data": {
      "text/plain": [
       "(0, 0)"
      ]
     },
     "execution_count": 8,
     "metadata": {},
     "output_type": "execute_result"
    }
   ],
   "source": [
    "for i in range(1, 4):\n",
    "    df.loc[(df[\"Pclass\"] == i) & (df[\"Cabin\"].isna()), \"Cabin\"] = cabin_class_dict[i]\n",
    "    df.loc[(df[\"Pclass\"] == i) & (df[\"Age\"].isna()), \"Age\"] = age_class_dict[i]\n",
    "df[\"Cabin\"].isna().sum(), df[\"Age\"].isna().sum()"
   ]
  },
  {
   "cell_type": "markdown",
   "id": "fbd74d4a-f188-4d78-a0ef-273c9103952e",
   "metadata": {},
   "source": [
    "### Перевожу пол в числа, перевожу порт в числа, где 1 - это откуда корабль отправился в плавание, а 3 - последний порт, где он был"
   ]
  },
  {
   "cell_type": "code",
   "execution_count": 9,
   "id": "bd26f148-705b-4658-b632-b4cf7c7d6614",
   "metadata": {},
   "outputs": [],
   "source": [
    "df.loc[df[\"Sex\"] == \"female\", \"Sex\"] = 1\n",
    "df.loc[df[\"Sex\"] == \"male\", \"Sex\"] = 0"
   ]
  },
  {
   "cell_type": "code",
   "execution_count": 10,
   "id": "89d57c0c-f844-4df4-b397-2799f6c0f07d",
   "metadata": {},
   "outputs": [],
   "source": [
    "arr_port = [\"S\", \"C\", \"Q\"]\n",
    "for i in range(3):\n",
    "    df.loc[(df[\"Embarked\"] == arr_port[i]) & (df[\"Embarked\"].notna()), \"Embarked\"] = float(i + 1)"
   ]
  },
  {
   "cell_type": "markdown",
   "id": "d61b8222-a3e1-48b0-8a58-caffa4667c10",
   "metadata": {},
   "source": [
    "### В признаке \"Embarked\" остались Null. С помощью анализа выяслил, что пассажиры соответствующего класса с такой стоимостью билета вероятнее всего отправились из 1 порта"
   ]
  },
  {
   "cell_type": "code",
   "execution_count": 11,
   "id": "24dc609e-8c13-4464-949e-31b91ec8e634",
   "metadata": {},
   "outputs": [
    {
     "data": {
      "text/html": [
       "<div>\n",
       "<style scoped>\n",
       "    .dataframe tbody tr th:only-of-type {\n",
       "        vertical-align: middle;\n",
       "    }\n",
       "\n",
       "    .dataframe tbody tr th {\n",
       "        vertical-align: top;\n",
       "    }\n",
       "\n",
       "    .dataframe thead th {\n",
       "        text-align: right;\n",
       "    }\n",
       "</style>\n",
       "<table border=\"1\" class=\"dataframe\">\n",
       "  <thead>\n",
       "    <tr style=\"text-align: right;\">\n",
       "      <th></th>\n",
       "      <th>Survived</th>\n",
       "      <th>Pclass</th>\n",
       "      <th>Sex</th>\n",
       "      <th>Age</th>\n",
       "      <th>SibSp</th>\n",
       "      <th>Fare</th>\n",
       "      <th>Cabin</th>\n",
       "      <th>Embarked</th>\n",
       "    </tr>\n",
       "    <tr>\n",
       "      <th>PassengerId</th>\n",
       "      <th></th>\n",
       "      <th></th>\n",
       "      <th></th>\n",
       "      <th></th>\n",
       "      <th></th>\n",
       "      <th></th>\n",
       "      <th></th>\n",
       "      <th></th>\n",
       "    </tr>\n",
       "  </thead>\n",
       "  <tbody>\n",
       "    <tr>\n",
       "      <th>62</th>\n",
       "      <td>1</td>\n",
       "      <td>1</td>\n",
       "      <td>1</td>\n",
       "      <td>38.0</td>\n",
       "      <td>0</td>\n",
       "      <td>80.0</td>\n",
       "      <td>2.0</td>\n",
       "      <td>NaN</td>\n",
       "    </tr>\n",
       "    <tr>\n",
       "      <th>830</th>\n",
       "      <td>1</td>\n",
       "      <td>1</td>\n",
       "      <td>1</td>\n",
       "      <td>62.0</td>\n",
       "      <td>0</td>\n",
       "      <td>80.0</td>\n",
       "      <td>2.0</td>\n",
       "      <td>NaN</td>\n",
       "    </tr>\n",
       "  </tbody>\n",
       "</table>\n",
       "</div>"
      ],
      "text/plain": [
       "             Survived  Pclass Sex   Age  SibSp  Fare Cabin Embarked\n",
       "PassengerId                                                        \n",
       "62                  1       1   1  38.0      0  80.0   2.0      NaN\n",
       "830                 1       1   1  62.0      0  80.0   2.0      NaN"
      ]
     },
     "execution_count": 11,
     "metadata": {},
     "output_type": "execute_result"
    }
   ],
   "source": [
    "df[df[\"Embarked\"].isna()]"
   ]
  },
  {
   "cell_type": "code",
   "execution_count": 12,
   "id": "91f5b071-6be6-4bd6-8117-326cc8a17dfd",
   "metadata": {},
   "outputs": [
    {
     "name": "stdout",
     "output_type": "stream",
     "text": [
      "1 порт ~ 85.37228260869566\n",
      "2 порт ~ 145.96401818181818\n",
      "3 порт ~ nan\n"
     ]
    }
   ],
   "source": [
    "for i in range(1, 4):\n",
    "    print(i, \"порт ~\", df[(df[\"Pclass\"] == 1) & (df[\"Cabin\"] == 2) & (df[\"Embarked\"] == i)][\"Fare\"].mean())"
   ]
  },
  {
   "cell_type": "code",
   "execution_count": 13,
   "id": "df7a449b-7ddb-411d-ace7-6da8ea986f7e",
   "metadata": {},
   "outputs": [
    {
     "data": {
      "text/plain": [
       "0"
      ]
     },
     "execution_count": 13,
     "metadata": {},
     "output_type": "execute_result"
    }
   ],
   "source": [
    "df.loc[df[\"Embarked\"].isna(), \"Embarked\"] = 1.0\n",
    "df.isna().sum().sum()"
   ]
  },
  {
   "cell_type": "markdown",
   "id": "1278979b-5d73-45bb-b4f7-54240e186806",
   "metadata": {},
   "source": [
    "### От всех Null избавился, категориальные признаки закодировал. Осталось сделать нормализацию и подобрать модель"
   ]
  },
  {
   "cell_type": "code",
   "execution_count": 14,
   "id": "56f3a71a-44e0-4c65-b70d-9df242eb782c",
   "metadata": {},
   "outputs": [
    {
     "data": {
      "text/html": [
       "<div>\n",
       "<style scoped>\n",
       "    .dataframe tbody tr th:only-of-type {\n",
       "        vertical-align: middle;\n",
       "    }\n",
       "\n",
       "    .dataframe tbody tr th {\n",
       "        vertical-align: top;\n",
       "    }\n",
       "\n",
       "    .dataframe thead th {\n",
       "        text-align: right;\n",
       "    }\n",
       "</style>\n",
       "<table border=\"1\" class=\"dataframe\">\n",
       "  <thead>\n",
       "    <tr style=\"text-align: right;\">\n",
       "      <th></th>\n",
       "      <th>Survived</th>\n",
       "      <th>Pclass</th>\n",
       "      <th>Sex</th>\n",
       "      <th>Age</th>\n",
       "      <th>SibSp</th>\n",
       "      <th>Fare</th>\n",
       "      <th>Cabin</th>\n",
       "      <th>Embarked</th>\n",
       "    </tr>\n",
       "    <tr>\n",
       "      <th>PassengerId</th>\n",
       "      <th></th>\n",
       "      <th></th>\n",
       "      <th></th>\n",
       "      <th></th>\n",
       "      <th></th>\n",
       "      <th></th>\n",
       "      <th></th>\n",
       "      <th></th>\n",
       "    </tr>\n",
       "  </thead>\n",
       "  <tbody>\n",
       "    <tr>\n",
       "      <th>1</th>\n",
       "      <td>0</td>\n",
       "      <td>3</td>\n",
       "      <td>0</td>\n",
       "      <td>22.0</td>\n",
       "      <td>1</td>\n",
       "      <td>7.2500</td>\n",
       "      <td>6.08</td>\n",
       "      <td>1.0</td>\n",
       "    </tr>\n",
       "    <tr>\n",
       "      <th>2</th>\n",
       "      <td>1</td>\n",
       "      <td>1</td>\n",
       "      <td>1</td>\n",
       "      <td>38.0</td>\n",
       "      <td>1</td>\n",
       "      <td>71.2833</td>\n",
       "      <td>3.0</td>\n",
       "      <td>2.0</td>\n",
       "    </tr>\n",
       "    <tr>\n",
       "      <th>3</th>\n",
       "      <td>1</td>\n",
       "      <td>3</td>\n",
       "      <td>1</td>\n",
       "      <td>26.0</td>\n",
       "      <td>0</td>\n",
       "      <td>7.9250</td>\n",
       "      <td>6.08</td>\n",
       "      <td>1.0</td>\n",
       "    </tr>\n",
       "    <tr>\n",
       "      <th>4</th>\n",
       "      <td>1</td>\n",
       "      <td>1</td>\n",
       "      <td>1</td>\n",
       "      <td>35.0</td>\n",
       "      <td>1</td>\n",
       "      <td>53.1000</td>\n",
       "      <td>3.0</td>\n",
       "      <td>1.0</td>\n",
       "    </tr>\n",
       "    <tr>\n",
       "      <th>5</th>\n",
       "      <td>0</td>\n",
       "      <td>3</td>\n",
       "      <td>0</td>\n",
       "      <td>35.0</td>\n",
       "      <td>0</td>\n",
       "      <td>8.0500</td>\n",
       "      <td>6.08</td>\n",
       "      <td>1.0</td>\n",
       "    </tr>\n",
       "  </tbody>\n",
       "</table>\n",
       "</div>"
      ],
      "text/plain": [
       "             Survived  Pclass Sex   Age  SibSp     Fare Cabin Embarked\n",
       "PassengerId                                                           \n",
       "1                   0       3   0  22.0      1   7.2500  6.08      1.0\n",
       "2                   1       1   1  38.0      1  71.2833   3.0      2.0\n",
       "3                   1       3   1  26.0      0   7.9250  6.08      1.0\n",
       "4                   1       1   1  35.0      1  53.1000   3.0      1.0\n",
       "5                   0       3   0  35.0      0   8.0500  6.08      1.0"
      ]
     },
     "execution_count": 14,
     "metadata": {},
     "output_type": "execute_result"
    }
   ],
   "source": [
    "df.head()"
   ]
  },
  {
   "cell_type": "markdown",
   "id": "b1bd9e05-4d7a-4f2c-ac76-336c4f55e862",
   "metadata": {},
   "source": [
    "### Для удобства всю работу с данными положу в один класс"
   ]
  },
  {
   "cell_type": "code",
   "execution_count": 32,
   "id": "7f32234f-9310-4d2a-98c0-bcc047570383",
   "metadata": {},
   "outputs": [],
   "source": [
    "from sklearn.preprocessing import StandardScaler\n",
    "import pandas as pd\n",
    "import numpy as np\n",
    "import sklearn\n",
    "\n",
    "class BaseDataPreprocessor(sklearn.base.TransformerMixin):\n",
    "    def __init__(self):\n",
    "        self.cabin_class_dict = {}\n",
    "        self.age_class_dict = {}\n",
    "        pass\n",
    "\n",
    "    def fit(self, data, *args):\n",
    "        for i in range(1, 4):\n",
    "            self.cabin_class_dict[i] = round(df[(df[\"Pclass\"] == i) & (df[\"Cabin\"].notna())][\"Cabin\"].mean(), 2)\n",
    "            self.age_class_dict[i] = round(df[(df[\"Pclass\"] == i) & (df[\"Age\"].notna())][\"Age\"].mean())\n",
    "        return self\n",
    "\n",
    "    def transform(self, df: pd.DataFrame) -> np.array:\n",
    "        df['SibSp'] = df.loc[:,['SibSp','Parch']].sum(axis=1)\n",
    "        df.loc[df[\"Sex\"] == \"female\", \"Sex\"] = 1\n",
    "        df.loc[df[\"Sex\"] == \"male\", \"Sex\"] = 0\n",
    "        df = df.drop([\"Name\", \"Ticket\"], axis=1)\n",
    "        \n",
    "        arr_letter = [\"A\", \"B\", \"C\", \"D\", \"E\", \"F\", \"G\"]\n",
    "        for i in range(df.index[0], df.index[0] + len(df)):\n",
    "            if not pd.isnull(df.loc[i][\"Cabin\"]) and df.loc[i][\"Cabin\"][0] in arr_letter:\n",
    "                df.loc[i, \"Cabin\"] = float(arr_letter.index(df.loc[i, \"Cabin\"][0])) + 1.0\n",
    "            else:\n",
    "                df.loc[i, \"Cabin\"] = None\n",
    "\n",
    "        for i in range(1, 4):\n",
    "            df.loc[(df[\"Pclass\"] == i) & (df[\"Cabin\"].isna()), \"Cabin\"] = self.cabin_class_dict[i]\n",
    "            df.loc[(df[\"Pclass\"] == i) & (df[\"Age\"].isna()), \"Age\"] = self.age_class_dict[i]\n",
    "\n",
    "        arr_port = [\"S\", \"C\", \"Q\"]\n",
    "        for i in range(3):\n",
    "            df.loc[(df[\"Embarked\"] == arr_port[i]) & (df[\"Embarked\"].notna()), \"Embarked\"] = float(i + 1)\n",
    "        df.loc[df[\"Embarked\"].isna(), \"Embarked\"] = 1.0 # для train\n",
    "        df_test.loc[df_test[\"Fare\"].isna(), \"Fare\"] = df_test[(df_test[\"Pclass\"] == 3) &\n",
    "                                                              (df_test[\"Fare\"].notna())][\"Fare\"].mean() # для test\n",
    "        df = df.fillna(0)\n",
    "        return np.array(df)"
   ]
  },
  {
   "cell_type": "markdown",
   "id": "2aacc451",
   "metadata": {},
   "source": [
    "### Возьму несколько моделей для классификации, подберу для них параметры и оценю результат"
   ]
  },
  {
   "cell_type": "code",
   "execution_count": 33,
   "id": "d127d6d7-3ae6-445b-9450-8277a21a892e",
   "metadata": {},
   "outputs": [],
   "source": [
    "from catboost import CatBoostClassifier\n",
    "from sklearn.model_selection import cross_val_score, GridSearchCV\n",
    "from sklearn.linear_model import LogisticRegression\n",
    "from sklearn.tree import DecisionTreeClassifier\n",
    "from sklearn.ensemble import RandomForestClassifier"
   ]
  },
  {
   "cell_type": "code",
   "execution_count": 34,
   "id": "6fc6ddc5-8f67-4f63-be93-a504c8ed4c1f",
   "metadata": {},
   "outputs": [],
   "source": [
    "df_train = pd.read_csv(\"train.csv\", index_col=\"PassengerId\")\n",
    "df_test = pd.read_csv(\"test.csv\", index_col=\"PassengerId\")"
   ]
  },
  {
   "cell_type": "code",
   "execution_count": 35,
   "id": "52cdef65-b5a3-4932-8190-9a4fb2a782ac",
   "metadata": {},
   "outputs": [],
   "source": [
    "preprocessor = BaseDataPreprocessor()\n",
    "scaler = StandardScaler()\n",
    "X_train, y_train = preprocessor.fit_transform(df_train.drop([\"Survived\"], axis=1)), np.array(df_train[\"Survived\"])\n",
    "X_train = scaler.fit_transform(X_train)\n",
    "\n",
    "X_test = preprocessor.transform(df_test)\n",
    "X_test = scaler.transform(X_test)"
   ]
  },
  {
   "cell_type": "code",
   "execution_count": 43,
   "id": "b55b07ce-edc5-4c00-9a09-41b30f81c10f",
   "metadata": {},
   "outputs": [
    {
     "data": {
      "text/plain": [
       "0.8047315855181024"
      ]
     },
     "execution_count": 43,
     "metadata": {},
     "output_type": "execute_result"
    }
   ],
   "source": [
    "model = LogisticRegression(random_state=0).fit(X_train, y_train)\n",
    "cross_val_score(model, X_train, y_train, cv=10).mean()"
   ]
  },
  {
   "cell_type": "code",
   "execution_count": 42,
   "id": "16f5158a-57cf-4531-8f3b-0b0756fbdf48",
   "metadata": {},
   "outputs": [
    {
     "name": "stdout",
     "output_type": "stream",
     "text": [
      "{'criterion': 'entropy', 'max_depth': 5, 'min_samples_leaf': 3, 'min_samples_split': 2}\n"
     ]
    },
    {
     "data": {
      "text/plain": [
       "0.813732833957553"
      ]
     },
     "execution_count": 42,
     "metadata": {},
     "output_type": "execute_result"
    }
   ],
   "source": [
    "parameters = {\"criterion\":[\"gini\", \"entropy\", \"log_loss\"],\n",
    "              \"max_depth\":[4, 5, 6],\n",
    "              \"min_samples_split\":[2, 3, 4],\n",
    "              \"min_samples_leaf\":[2, 3, 4]}\n",
    "model = DecisionTreeClassifier()\n",
    "grid = GridSearchCV(model, parameters, cv=10)\n",
    "answer = grid.fit(X_train, y_train)\n",
    "params = answer.best_params_\n",
    "print(params)\n",
    "\n",
    "model = DecisionTreeClassifier(**params)\n",
    "cross_val_score(model, X_train, y_train, cv=10).mean()"
   ]
  },
  {
   "cell_type": "code",
   "execution_count": 41,
   "id": "b679c5dd-cb24-401f-aa95-8558c60ac954",
   "metadata": {},
   "outputs": [
    {
     "name": "stdout",
     "output_type": "stream",
     "text": [
      "{'criterion': 'gini', 'max_depth': 6, 'min_samples_leaf': 4, 'min_samples_split': 2, 'n_estimators': 50}\n"
     ]
    },
    {
     "data": {
      "text/plain": [
       "0.8305867665418226"
      ]
     },
     "execution_count": 41,
     "metadata": {},
     "output_type": "execute_result"
    }
   ],
   "source": [
    "parameters = {\"n_estimators\":[50, 100, 150],\n",
    "              \"criterion\":[\"gini\", \"entropy\"],\n",
    "              \"max_depth\":[5, 6, 7],\n",
    "              \"min_samples_split\":[2, 3, 4],\n",
    "              \"min_samples_leaf\":[4, 5, 6]}\n",
    "\n",
    "model = RandomForestClassifier()\n",
    "grid = GridSearchCV(model, parameters, cv=10)\n",
    "answer = grid.fit(X_train, y_train)\n",
    "params = answer.best_params_\n",
    "print(params)\n",
    "\n",
    "model = RandomForestClassifier(**params)\n",
    "cross_val_score(model, X_train, y_train, cv=10).mean()"
   ]
  },
  {
   "cell_type": "code",
   "execution_count": 40,
   "id": "39e3cd20-d755-4e0f-a712-1bab8c699999",
   "metadata": {},
   "outputs": [
    {
     "name": "stdout",
     "output_type": "stream",
     "text": [
      "{'depth': 5, 'iterations': 300, 'l2_leaf_reg': 1, 'learning_rate': 0.1, 'loss_function': 'Logloss'}\n"
     ]
    },
    {
     "data": {
      "text/plain": [
       "0.8440324594257177"
      ]
     },
     "execution_count": 40,
     "metadata": {},
     "output_type": "execute_result"
    }
   ],
   "source": [
    "parameters = {\"loss_function\":[\"Logloss\"],\n",
    "              \"iterations\":[300, 400, 500],\n",
    "              \"learning_rate\":[0.05, 0.1],\n",
    "              \"depth\":[3, 5, 7],\n",
    "              \"l2_leaf_reg\":[1, 10]}\n",
    "\n",
    "model = CatBoostClassifier(verbose=False)\n",
    "grid = GridSearchCV(model, parameters, cv=10)\n",
    "answer = grid.fit(X_train, y_train)\n",
    "params = answer.best_params_\n",
    "print(params)\n",
    "\n",
    "model = CatBoostClassifier(**params, verbose=False)\n",
    "cross_val_score(model, X_train, y_train, cv=10).mean()"
   ]
  },
  {
   "cell_type": "markdown",
   "id": "925f0ed4",
   "metadata": {},
   "source": [
    "### Catboost и случайный лес показали лучшие результаты. Создам 3 ответа с помощью: catboost, случайный лес, catboost+случайный лес"
   ]
  },
  {
   "cell_type": "code",
   "execution_count": 44,
   "id": "1fe4a7da",
   "metadata": {},
   "outputs": [],
   "source": [
    "def save_pred(predict, name_file):\n",
    "    answer = df_test.copy()\n",
    "    answer[\"Survived\"] = predict\n",
    "    answer = answer[\"Survived\"]\n",
    "    answer.to_csv(name_file + \".csv\")"
   ]
  },
  {
   "cell_type": "code",
   "execution_count": 45,
   "id": "29cae55f-f184-4fb2-a63b-4e1e19fad508",
   "metadata": {},
   "outputs": [],
   "source": [
    "params = {'depth': 5, 'iterations': 300, 'l2_leaf_reg': 1, 'learning_rate': 0.1, 'loss_function': 'Logloss'}\n",
    "model = CatBoostClassifier(**params, verbose=False)\n",
    "model.fit(X_train, y_train)\n",
    "pred = model.predict(X_test)\n",
    "save_pred(pred, \"answer_catboost\")"
   ]
  },
  {
   "cell_type": "code",
   "execution_count": 46,
   "id": "fe6a4a9d",
   "metadata": {},
   "outputs": [],
   "source": [
    "params = {'criterion': 'gini', 'max_depth': 6, 'min_samples_leaf': 4, 'min_samples_split': 2, 'n_estimators': 50}\n",
    "model = RandomForestClassifier(**params)\n",
    "model.fit(X_train, y_train)\n",
    "pred = model.predict(X_test)\n",
    "save_pred(pred, \"answer_randomforest\")"
   ]
  },
  {
   "cell_type": "code",
   "execution_count": 47,
   "id": "709a4255",
   "metadata": {},
   "outputs": [],
   "source": [
    "params = {'depth': 5, 'iterations': 300, 'l2_leaf_reg': 1, 'learning_rate': 0.1, 'loss_function': 'Logloss'}\n",
    "model = CatBoostClassifier(**params, verbose=False)\n",
    "model.fit(X_train, y_train)\n",
    "pred_proba = model.predict_proba(X_test)\n",
    "\n",
    "params = {'criterion': 'gini', 'max_depth': 6, 'min_samples_leaf': 4, 'min_samples_split': 2, 'n_estimators': 50}\n",
    "model = RandomForestClassifier(**params)\n",
    "model.fit(X_train, y_train)\n",
    "pred_proba += model.predict_proba(X_test)\n",
    "\n",
    "pred_proba /= 2\n",
    "pred = []\n",
    "\n",
    "for item in pred_proba:\n",
    "    if item[1] > 0.5:\n",
    "        pred.append(1)\n",
    "    else:\n",
    "        pred.append(0)\n",
    "save_pred(pred, \"answer_catboost_randomforest\")"
   ]
  },
  {
   "cell_type": "markdown",
   "id": "559d8099",
   "metadata": {},
   "source": [
    "### После проверки лучшее качество получило предсказание, сделанное с помощью \"RandomForestClassifier\", 78%"
   ]
  },
  {
   "cell_type": "code",
   "execution_count": null,
   "id": "4a99605c",
   "metadata": {},
   "outputs": [],
   "source": []
  }
 ],
 "metadata": {
  "kernelspec": {
   "display_name": "Python 3 (ipykernel)",
   "language": "python",
   "name": "python3"
  },
  "language_info": {
   "codemirror_mode": {
    "name": "ipython",
    "version": 3
   },
   "file_extension": ".py",
   "mimetype": "text/x-python",
   "name": "python",
   "nbconvert_exporter": "python",
   "pygments_lexer": "ipython3",
   "version": "3.11.7"
  }
 },
 "nbformat": 4,
 "nbformat_minor": 5
}
