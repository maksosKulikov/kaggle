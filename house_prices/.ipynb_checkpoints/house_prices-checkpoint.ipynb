{
 "cells": [
  {
   "cell_type": "code",
   "execution_count": 12,
   "id": "c7d66e42-50ea-47f3-924c-96d6670d9dd2",
   "metadata": {},
   "outputs": [],
   "source": [
    "import pandas as pd\n",
    "import numpy as np\n",
    "import matplotlib.pyplot as plt\n",
    "import seaborn as sn"
   ]
  },
  {
   "cell_type": "markdown",
   "id": "3e77f835",
   "metadata": {},
   "source": [
    "### Задача регрессии. В качесте метрики использую RMSE"
   ]
  },
  {
   "cell_type": "code",
   "execution_count": 13,
   "id": "19e7fa9d-b77f-4850-bdf3-b3746e8a020e",
   "metadata": {},
   "outputs": [],
   "source": [
    "df = pd.read_csv(\"train.csv\", index_col=\"Id\")"
   ]
  },
  {
   "cell_type": "code",
   "execution_count": 14,
   "id": "067f30b5-55fc-4dd1-b5af-642f456b3f5e",
   "metadata": {},
   "outputs": [
    {
     "data": {
      "text/html": [
       "<div>\n",
       "<style scoped>\n",
       "    .dataframe tbody tr th:only-of-type {\n",
       "        vertical-align: middle;\n",
       "    }\n",
       "\n",
       "    .dataframe tbody tr th {\n",
       "        vertical-align: top;\n",
       "    }\n",
       "\n",
       "    .dataframe thead th {\n",
       "        text-align: right;\n",
       "    }\n",
       "</style>\n",
       "<table border=\"1\" class=\"dataframe\">\n",
       "  <thead>\n",
       "    <tr style=\"text-align: right;\">\n",
       "      <th></th>\n",
       "      <th>MSSubClass</th>\n",
       "      <th>MSZoning</th>\n",
       "      <th>LotFrontage</th>\n",
       "      <th>LotArea</th>\n",
       "      <th>Street</th>\n",
       "      <th>Alley</th>\n",
       "      <th>LotShape</th>\n",
       "      <th>LandContour</th>\n",
       "      <th>Utilities</th>\n",
       "      <th>LotConfig</th>\n",
       "      <th>...</th>\n",
       "      <th>PoolArea</th>\n",
       "      <th>PoolQC</th>\n",
       "      <th>Fence</th>\n",
       "      <th>MiscFeature</th>\n",
       "      <th>MiscVal</th>\n",
       "      <th>MoSold</th>\n",
       "      <th>YrSold</th>\n",
       "      <th>SaleType</th>\n",
       "      <th>SaleCondition</th>\n",
       "      <th>SalePrice</th>\n",
       "    </tr>\n",
       "    <tr>\n",
       "      <th>Id</th>\n",
       "      <th></th>\n",
       "      <th></th>\n",
       "      <th></th>\n",
       "      <th></th>\n",
       "      <th></th>\n",
       "      <th></th>\n",
       "      <th></th>\n",
       "      <th></th>\n",
       "      <th></th>\n",
       "      <th></th>\n",
       "      <th></th>\n",
       "      <th></th>\n",
       "      <th></th>\n",
       "      <th></th>\n",
       "      <th></th>\n",
       "      <th></th>\n",
       "      <th></th>\n",
       "      <th></th>\n",
       "      <th></th>\n",
       "      <th></th>\n",
       "      <th></th>\n",
       "    </tr>\n",
       "  </thead>\n",
       "  <tbody>\n",
       "    <tr>\n",
       "      <th>1</th>\n",
       "      <td>60</td>\n",
       "      <td>RL</td>\n",
       "      <td>65.0</td>\n",
       "      <td>8450</td>\n",
       "      <td>Pave</td>\n",
       "      <td>NaN</td>\n",
       "      <td>Reg</td>\n",
       "      <td>Lvl</td>\n",
       "      <td>AllPub</td>\n",
       "      <td>Inside</td>\n",
       "      <td>...</td>\n",
       "      <td>0</td>\n",
       "      <td>NaN</td>\n",
       "      <td>NaN</td>\n",
       "      <td>NaN</td>\n",
       "      <td>0</td>\n",
       "      <td>2</td>\n",
       "      <td>2008</td>\n",
       "      <td>WD</td>\n",
       "      <td>Normal</td>\n",
       "      <td>208500</td>\n",
       "    </tr>\n",
       "    <tr>\n",
       "      <th>2</th>\n",
       "      <td>20</td>\n",
       "      <td>RL</td>\n",
       "      <td>80.0</td>\n",
       "      <td>9600</td>\n",
       "      <td>Pave</td>\n",
       "      <td>NaN</td>\n",
       "      <td>Reg</td>\n",
       "      <td>Lvl</td>\n",
       "      <td>AllPub</td>\n",
       "      <td>FR2</td>\n",
       "      <td>...</td>\n",
       "      <td>0</td>\n",
       "      <td>NaN</td>\n",
       "      <td>NaN</td>\n",
       "      <td>NaN</td>\n",
       "      <td>0</td>\n",
       "      <td>5</td>\n",
       "      <td>2007</td>\n",
       "      <td>WD</td>\n",
       "      <td>Normal</td>\n",
       "      <td>181500</td>\n",
       "    </tr>\n",
       "    <tr>\n",
       "      <th>3</th>\n",
       "      <td>60</td>\n",
       "      <td>RL</td>\n",
       "      <td>68.0</td>\n",
       "      <td>11250</td>\n",
       "      <td>Pave</td>\n",
       "      <td>NaN</td>\n",
       "      <td>IR1</td>\n",
       "      <td>Lvl</td>\n",
       "      <td>AllPub</td>\n",
       "      <td>Inside</td>\n",
       "      <td>...</td>\n",
       "      <td>0</td>\n",
       "      <td>NaN</td>\n",
       "      <td>NaN</td>\n",
       "      <td>NaN</td>\n",
       "      <td>0</td>\n",
       "      <td>9</td>\n",
       "      <td>2008</td>\n",
       "      <td>WD</td>\n",
       "      <td>Normal</td>\n",
       "      <td>223500</td>\n",
       "    </tr>\n",
       "    <tr>\n",
       "      <th>4</th>\n",
       "      <td>70</td>\n",
       "      <td>RL</td>\n",
       "      <td>60.0</td>\n",
       "      <td>9550</td>\n",
       "      <td>Pave</td>\n",
       "      <td>NaN</td>\n",
       "      <td>IR1</td>\n",
       "      <td>Lvl</td>\n",
       "      <td>AllPub</td>\n",
       "      <td>Corner</td>\n",
       "      <td>...</td>\n",
       "      <td>0</td>\n",
       "      <td>NaN</td>\n",
       "      <td>NaN</td>\n",
       "      <td>NaN</td>\n",
       "      <td>0</td>\n",
       "      <td>2</td>\n",
       "      <td>2006</td>\n",
       "      <td>WD</td>\n",
       "      <td>Abnorml</td>\n",
       "      <td>140000</td>\n",
       "    </tr>\n",
       "    <tr>\n",
       "      <th>5</th>\n",
       "      <td>60</td>\n",
       "      <td>RL</td>\n",
       "      <td>84.0</td>\n",
       "      <td>14260</td>\n",
       "      <td>Pave</td>\n",
       "      <td>NaN</td>\n",
       "      <td>IR1</td>\n",
       "      <td>Lvl</td>\n",
       "      <td>AllPub</td>\n",
       "      <td>FR2</td>\n",
       "      <td>...</td>\n",
       "      <td>0</td>\n",
       "      <td>NaN</td>\n",
       "      <td>NaN</td>\n",
       "      <td>NaN</td>\n",
       "      <td>0</td>\n",
       "      <td>12</td>\n",
       "      <td>2008</td>\n",
       "      <td>WD</td>\n",
       "      <td>Normal</td>\n",
       "      <td>250000</td>\n",
       "    </tr>\n",
       "  </tbody>\n",
       "</table>\n",
       "<p>5 rows × 80 columns</p>\n",
       "</div>"
      ],
      "text/plain": [
       "    MSSubClass MSZoning  LotFrontage  LotArea Street Alley LotShape  \\\n",
       "Id                                                                    \n",
       "1           60       RL         65.0     8450   Pave   NaN      Reg   \n",
       "2           20       RL         80.0     9600   Pave   NaN      Reg   \n",
       "3           60       RL         68.0    11250   Pave   NaN      IR1   \n",
       "4           70       RL         60.0     9550   Pave   NaN      IR1   \n",
       "5           60       RL         84.0    14260   Pave   NaN      IR1   \n",
       "\n",
       "   LandContour Utilities LotConfig  ... PoolArea PoolQC Fence MiscFeature  \\\n",
       "Id                                  ...                                     \n",
       "1          Lvl    AllPub    Inside  ...        0    NaN   NaN         NaN   \n",
       "2          Lvl    AllPub       FR2  ...        0    NaN   NaN         NaN   \n",
       "3          Lvl    AllPub    Inside  ...        0    NaN   NaN         NaN   \n",
       "4          Lvl    AllPub    Corner  ...        0    NaN   NaN         NaN   \n",
       "5          Lvl    AllPub       FR2  ...        0    NaN   NaN         NaN   \n",
       "\n",
       "   MiscVal MoSold  YrSold  SaleType  SaleCondition  SalePrice  \n",
       "Id                                                             \n",
       "1        0      2    2008        WD         Normal     208500  \n",
       "2        0      5    2007        WD         Normal     181500  \n",
       "3        0      9    2008        WD         Normal     223500  \n",
       "4        0      2    2006        WD        Abnorml     140000  \n",
       "5        0     12    2008        WD         Normal     250000  \n",
       "\n",
       "[5 rows x 80 columns]"
      ]
     },
     "execution_count": 14,
     "metadata": {},
     "output_type": "execute_result"
    }
   ],
   "source": [
    "df.head()"
   ]
  },
  {
   "cell_type": "markdown",
   "id": "c52825b9",
   "metadata": {},
   "source": [
    "### Смотрю сколько в процентном соотношении в данных nan. Признаки, в которых много nan (>40%) удаляю."
   ]
  },
  {
   "cell_type": "code",
   "execution_count": 15,
   "id": "5a28ab6b-6a56-44c4-b2df-6dada90b785f",
   "metadata": {},
   "outputs": [
    {
     "data": {
      "text/plain": [
       "PoolQC         0.995205\n",
       "MiscFeature    0.963014\n",
       "Alley          0.937671\n",
       "Fence          0.807534\n",
       "MasVnrType     0.597260\n",
       "FireplaceQu    0.472603\n",
       "LotFrontage    0.177397\n",
       "GarageYrBlt    0.055479\n",
       "dtype: float64"
      ]
     },
     "execution_count": 15,
     "metadata": {},
     "output_type": "execute_result"
    }
   ],
   "source": [
    "(df.isna().sum() / len(df)).sort_values(ascending=False).head(8)"
   ]
  },
  {
   "cell_type": "code",
   "execution_count": 16,
   "id": "5947ae3e-f9dd-4f4d-9074-6fe6ac76c2ed",
   "metadata": {},
   "outputs": [],
   "source": [
    "nan_df = pd.DataFrame({\"percent\": df.isna().sum() / len(df)})\n",
    "df = df.drop(nan_df[nan_df[\"percent\"] > 0.4].index, axis=1)"
   ]
  },
  {
   "cell_type": "markdown",
   "id": "82ce7519",
   "metadata": {},
   "source": [
    "### Смотрю корреляюцию в численных признаках. Если корреляция близка к нулю, удаляю признак"
   ]
  },
  {
   "cell_type": "code",
   "execution_count": 17,
   "id": "a98f7c9c-f648-40bc-bc3e-7914cb27e786",
   "metadata": {},
   "outputs": [],
   "source": [
    "corr_df = pd.DataFrame({\"corr\": np.abs(df.corrwith(df[\"SalePrice\"], numeric_only=True))})\n",
    "df = df.drop(corr_df[corr_df[\"corr\"] < 0.1].index, axis=1)"
   ]
  },
  {
   "cell_type": "code",
   "execution_count": 18,
   "id": "1d39799a-a2fa-4fea-8dd0-63b9f30dd2ba",
   "metadata": {},
   "outputs": [
    {
     "data": {
      "text/html": [
       "<div>\n",
       "<style scoped>\n",
       "    .dataframe tbody tr th:only-of-type {\n",
       "        vertical-align: middle;\n",
       "    }\n",
       "\n",
       "    .dataframe tbody tr th {\n",
       "        vertical-align: top;\n",
       "    }\n",
       "\n",
       "    .dataframe thead th {\n",
       "        text-align: right;\n",
       "    }\n",
       "</style>\n",
       "<table border=\"1\" class=\"dataframe\">\n",
       "  <thead>\n",
       "    <tr style=\"text-align: right;\">\n",
       "      <th></th>\n",
       "      <th>MSZoning</th>\n",
       "      <th>LotArea</th>\n",
       "      <th>Street</th>\n",
       "      <th>LotShape</th>\n",
       "      <th>LandContour</th>\n",
       "      <th>Utilities</th>\n",
       "      <th>LotConfig</th>\n",
       "      <th>LandSlope</th>\n",
       "      <th>Neighborhood</th>\n",
       "      <th>Condition1</th>\n",
       "      <th>...</th>\n",
       "      <th>GarageQual</th>\n",
       "      <th>GarageCond</th>\n",
       "      <th>PavedDrive</th>\n",
       "      <th>WoodDeckSF</th>\n",
       "      <th>OpenPorchSF</th>\n",
       "      <th>EnclosedPorch</th>\n",
       "      <th>ScreenPorch</th>\n",
       "      <th>SaleType</th>\n",
       "      <th>SaleCondition</th>\n",
       "      <th>SalePrice</th>\n",
       "    </tr>\n",
       "    <tr>\n",
       "      <th>Id</th>\n",
       "      <th></th>\n",
       "      <th></th>\n",
       "      <th></th>\n",
       "      <th></th>\n",
       "      <th></th>\n",
       "      <th></th>\n",
       "      <th></th>\n",
       "      <th></th>\n",
       "      <th></th>\n",
       "      <th></th>\n",
       "      <th></th>\n",
       "      <th></th>\n",
       "      <th></th>\n",
       "      <th></th>\n",
       "      <th></th>\n",
       "      <th></th>\n",
       "      <th></th>\n",
       "      <th></th>\n",
       "      <th></th>\n",
       "      <th></th>\n",
       "      <th></th>\n",
       "    </tr>\n",
       "  </thead>\n",
       "  <tbody>\n",
       "    <tr>\n",
       "      <th>1</th>\n",
       "      <td>RL</td>\n",
       "      <td>8450</td>\n",
       "      <td>Pave</td>\n",
       "      <td>Reg</td>\n",
       "      <td>Lvl</td>\n",
       "      <td>AllPub</td>\n",
       "      <td>Inside</td>\n",
       "      <td>Gtl</td>\n",
       "      <td>CollgCr</td>\n",
       "      <td>Norm</td>\n",
       "      <td>...</td>\n",
       "      <td>TA</td>\n",
       "      <td>TA</td>\n",
       "      <td>Y</td>\n",
       "      <td>0</td>\n",
       "      <td>61</td>\n",
       "      <td>0</td>\n",
       "      <td>0</td>\n",
       "      <td>WD</td>\n",
       "      <td>Normal</td>\n",
       "      <td>208500</td>\n",
       "    </tr>\n",
       "    <tr>\n",
       "      <th>2</th>\n",
       "      <td>RL</td>\n",
       "      <td>9600</td>\n",
       "      <td>Pave</td>\n",
       "      <td>Reg</td>\n",
       "      <td>Lvl</td>\n",
       "      <td>AllPub</td>\n",
       "      <td>FR2</td>\n",
       "      <td>Gtl</td>\n",
       "      <td>Veenker</td>\n",
       "      <td>Feedr</td>\n",
       "      <td>...</td>\n",
       "      <td>TA</td>\n",
       "      <td>TA</td>\n",
       "      <td>Y</td>\n",
       "      <td>298</td>\n",
       "      <td>0</td>\n",
       "      <td>0</td>\n",
       "      <td>0</td>\n",
       "      <td>WD</td>\n",
       "      <td>Normal</td>\n",
       "      <td>181500</td>\n",
       "    </tr>\n",
       "    <tr>\n",
       "      <th>3</th>\n",
       "      <td>RL</td>\n",
       "      <td>11250</td>\n",
       "      <td>Pave</td>\n",
       "      <td>IR1</td>\n",
       "      <td>Lvl</td>\n",
       "      <td>AllPub</td>\n",
       "      <td>Inside</td>\n",
       "      <td>Gtl</td>\n",
       "      <td>CollgCr</td>\n",
       "      <td>Norm</td>\n",
       "      <td>...</td>\n",
       "      <td>TA</td>\n",
       "      <td>TA</td>\n",
       "      <td>Y</td>\n",
       "      <td>0</td>\n",
       "      <td>42</td>\n",
       "      <td>0</td>\n",
       "      <td>0</td>\n",
       "      <td>WD</td>\n",
       "      <td>Normal</td>\n",
       "      <td>223500</td>\n",
       "    </tr>\n",
       "    <tr>\n",
       "      <th>4</th>\n",
       "      <td>RL</td>\n",
       "      <td>9550</td>\n",
       "      <td>Pave</td>\n",
       "      <td>IR1</td>\n",
       "      <td>Lvl</td>\n",
       "      <td>AllPub</td>\n",
       "      <td>Corner</td>\n",
       "      <td>Gtl</td>\n",
       "      <td>Crawfor</td>\n",
       "      <td>Norm</td>\n",
       "      <td>...</td>\n",
       "      <td>TA</td>\n",
       "      <td>TA</td>\n",
       "      <td>Y</td>\n",
       "      <td>0</td>\n",
       "      <td>35</td>\n",
       "      <td>272</td>\n",
       "      <td>0</td>\n",
       "      <td>WD</td>\n",
       "      <td>Abnorml</td>\n",
       "      <td>140000</td>\n",
       "    </tr>\n",
       "    <tr>\n",
       "      <th>5</th>\n",
       "      <td>RL</td>\n",
       "      <td>14260</td>\n",
       "      <td>Pave</td>\n",
       "      <td>IR1</td>\n",
       "      <td>Lvl</td>\n",
       "      <td>AllPub</td>\n",
       "      <td>FR2</td>\n",
       "      <td>Gtl</td>\n",
       "      <td>NoRidge</td>\n",
       "      <td>Norm</td>\n",
       "      <td>...</td>\n",
       "      <td>TA</td>\n",
       "      <td>TA</td>\n",
       "      <td>Y</td>\n",
       "      <td>192</td>\n",
       "      <td>84</td>\n",
       "      <td>0</td>\n",
       "      <td>0</td>\n",
       "      <td>WD</td>\n",
       "      <td>Normal</td>\n",
       "      <td>250000</td>\n",
       "    </tr>\n",
       "  </tbody>\n",
       "</table>\n",
       "<p>5 rows × 63 columns</p>\n",
       "</div>"
      ],
      "text/plain": [
       "   MSZoning  LotArea Street LotShape LandContour Utilities LotConfig  \\\n",
       "Id                                                                     \n",
       "1        RL     8450   Pave      Reg         Lvl    AllPub    Inside   \n",
       "2        RL     9600   Pave      Reg         Lvl    AllPub       FR2   \n",
       "3        RL    11250   Pave      IR1         Lvl    AllPub    Inside   \n",
       "4        RL     9550   Pave      IR1         Lvl    AllPub    Corner   \n",
       "5        RL    14260   Pave      IR1         Lvl    AllPub       FR2   \n",
       "\n",
       "   LandSlope Neighborhood Condition1  ... GarageQual GarageCond PavedDrive  \\\n",
       "Id                                    ...                                    \n",
       "1        Gtl      CollgCr       Norm  ...         TA         TA          Y   \n",
       "2        Gtl      Veenker      Feedr  ...         TA         TA          Y   \n",
       "3        Gtl      CollgCr       Norm  ...         TA         TA          Y   \n",
       "4        Gtl      Crawfor       Norm  ...         TA         TA          Y   \n",
       "5        Gtl      NoRidge       Norm  ...         TA         TA          Y   \n",
       "\n",
       "    WoodDeckSF  OpenPorchSF  EnclosedPorch ScreenPorch SaleType SaleCondition  \\\n",
       "Id                                                                              \n",
       "1            0           61              0           0       WD        Normal   \n",
       "2          298            0              0           0       WD        Normal   \n",
       "3            0           42              0           0       WD        Normal   \n",
       "4            0           35            272           0       WD       Abnorml   \n",
       "5          192           84              0           0       WD        Normal   \n",
       "\n",
       "   SalePrice  \n",
       "Id            \n",
       "1     208500  \n",
       "2     181500  \n",
       "3     223500  \n",
       "4     140000  \n",
       "5     250000  \n",
       "\n",
       "[5 rows x 63 columns]"
      ]
     },
     "execution_count": 18,
     "metadata": {},
     "output_type": "execute_result"
    }
   ],
   "source": [
    "df.head()"
   ]
  },
  {
   "cell_type": "code",
   "execution_count": 19,
   "id": "d0117b2d-eae7-4fd1-a57b-1a869e82cb79",
   "metadata": {},
   "outputs": [
    {
     "data": {
      "text/plain": [
       "array([dtype('O'), dtype('int64'), dtype('float64')], dtype=object)"
      ]
     },
     "execution_count": 19,
     "metadata": {},
     "output_type": "execute_result"
    }
   ],
   "source": [
    "df.dtypes.unique()"
   ]
  },
  {
   "cell_type": "markdown",
   "id": "f2d4a6fe",
   "metadata": {},
   "source": [
    "### Если какой-то признак состоит на более чем 85% из одного значения, то такой признак я удаляю"
   ]
  },
  {
   "cell_type": "code",
   "execution_count": 9,
   "id": "35725d86-7511-4d54-b887-5c1b3bba6064",
   "metadata": {},
   "outputs": [
    {
     "data": {
      "text/plain": [
       "(1460, 42)"
      ]
     },
     "execution_count": 9,
     "metadata": {},
     "output_type": "execute_result"
    }
   ],
   "source": [
    "for column in df.columns:\n",
    "    if df.groupby([column]).size().max() / len(df) > 0.85:\n",
    "        df = df.drop(column, axis=1)\n",
    "df.shape"
   ]
  },
  {
   "cell_type": "code",
   "execution_count": 20,
   "id": "1c3b2a0c-32b5-4b35-9427-96b8c6bad45e",
   "metadata": {},
   "outputs": [
    {
     "data": {
      "text/plain": [
       "37"
      ]
     },
     "execution_count": 20,
     "metadata": {},
     "output_type": "execute_result"
    }
   ],
   "source": [
    "categorical_columns = df.select_dtypes(include=['object']).columns\n",
    "len(categorical_columns)"
   ]
  },
  {
   "cell_type": "markdown",
   "id": "bbf885e3",
   "metadata": {},
   "source": [
    "### Смотрю категориальные признаки, у которых 4 или меньше различных значений. Для таких признаков я прочитал информацию о том что они значат и выяслнил, что значения в ниx обозначают есть ли что-то в доме или говорят о каком-то качестве объекта(хороший, плохой и т.д.). В таком случае их можно переделать в численные следующим способом: \"плохой\" = 0, \"хороший\" = 1 и т.п. "
   ]
  },
  {
   "cell_type": "code",
   "execution_count": 21,
   "id": "30d07dbe-6597-47b6-be08-9e76746eac60",
   "metadata": {},
   "outputs": [
    {
     "data": {
      "text/plain": [
       "Index(['Street', 'LotShape', 'LandContour', 'Utilities', 'LandSlope',\n",
       "       'ExterQual', 'BsmtQual', 'BsmtCond', 'BsmtExposure', 'CentralAir',\n",
       "       'KitchenQual', 'GarageFinish', 'PavedDrive'],\n",
       "      dtype='object')"
      ]
     },
     "execution_count": 21,
     "metadata": {},
     "output_type": "execute_result"
    }
   ],
   "source": [
    "categorical_nunique_df = pd.DataFrame({\"unique\": df[categorical_columns].nunique()})\n",
    "df[categorical_nunique_df[categorical_nunique_df[\"unique\"] <= 4].index].columns"
   ]
  },
  {
   "cell_type": "code",
   "execution_count": 22,
   "id": "1f82e7ec-b8eb-4372-aaab-bcf031597961",
   "metadata": {},
   "outputs": [],
   "source": [
    "def remake_column(value_cat, value_num, column_name):\n",
    "    df[column_name] = df[column_name].fillna(0)\n",
    "    for i in range(len(value_cat)):\n",
    "        df.loc[df[column_name] == value_cat[i], column_name] = value_num[i]\n",
    "    df[column_name] = df[column_name].astype(int)"
   ]
  },
  {
   "cell_type": "code",
   "execution_count": 23,
   "id": "483d36a8-b6dd-41dd-b21c-e5da0045c6cb",
   "metadata": {},
   "outputs": [
    {
     "data": {
      "text/plain": [
       "Index(['MSZoning', 'LotArea', 'Street', 'LotShape', 'LandContour', 'Utilities',\n",
       "       'LotConfig', 'LandSlope', 'Neighborhood', 'Condition1', 'Condition2',\n",
       "       'BldgType', 'HouseStyle', 'OverallQual', 'YearBuilt', 'YearRemodAdd',\n",
       "       'RoofStyle', 'RoofMatl', 'Exterior1st', 'Exterior2nd', 'MasVnrArea',\n",
       "       'ExterQual', 'ExterCond', 'Foundation', 'BsmtQual', 'BsmtCond',\n",
       "       'BsmtExposure', 'BsmtFinType1', 'BsmtFinSF1', 'BsmtFinType2',\n",
       "       'BsmtUnfSF', 'TotalBsmtSF', 'Heating', 'HeatingQC', 'CentralAir',\n",
       "       'Electrical', '1stFlrSF', '2ndFlrSF', 'GrLivArea', 'BsmtFullBath',\n",
       "       'FullBath', 'HalfBath', 'BedroomAbvGr', 'KitchenAbvGr', 'KitchenQual',\n",
       "       'TotRmsAbvGrd', 'Functional', 'Fireplaces', 'GarageType', 'GarageYrBlt',\n",
       "       'GarageFinish', 'GarageCars', 'GarageArea', 'GarageQual', 'GarageCond',\n",
       "       'PavedDrive', 'WoodDeckSF', 'OpenPorchSF', 'EnclosedPorch',\n",
       "       'ScreenPorch', 'SaleType', 'SaleCondition', 'SalePrice'],\n",
       "      dtype='object')"
      ]
     },
     "execution_count": 23,
     "metadata": {},
     "output_type": "execute_result"
    }
   ],
   "source": [
    "df.columns"
   ]
  },
  {
   "cell_type": "code",
   "execution_count": 704,
   "id": "e65b6242-c48e-43af-bf1a-7725e3d7f313",
   "metadata": {},
   "outputs": [],
   "source": [
    "remake_column([\"IR3\", \"IR2\", \"IR1\", \"Reg\"], [1, 2, 3, 4], \"LotShape\")\n",
    "remake_column([\"Po\", \"Fa\", \"TA\", \"Gd\", \"Ex\"], [-2, -1, 0, 1, 2], \"ExterQual\")\n",
    "remake_column([\"NA\", \"Po\", \"Fa\", \"TA\", \"Gd\", \"Ex\"], [0, 1, 2, 3, 4, 5], \"BsmtQual\")\n",
    "remake_column([\"NA\", \"No\", \"Mn\", \"Av\", \"Gd\"], [0, 1, 2, 3, 4], \"BsmtExposure\")\n",
    "remake_column([\"Po\", \"Fa\", \"TA\", \"Gd\", \"Ex\"], [0, 1, 2, 3, 4], \"KitchenQual\")\n",
    "remake_column([\"NA\", \"Unf\", \"RFn\", \"Fin\"], [0, 1, 2, 3], \"GarageFinish\")"
   ]
  },
  {
   "cell_type": "code",
   "execution_count": 705,
   "id": "4647b587-b4d9-4d56-b2b9-01fa693613c9",
   "metadata": {},
   "outputs": [
    {
     "data": {
      "text/plain": [
       "13"
      ]
     },
     "execution_count": 705,
     "metadata": {},
     "output_type": "execute_result"
    }
   ],
   "source": [
    "categorical_columns = df.select_dtypes(include=['object']).columns\n",
    "len(categorical_columns)"
   ]
  },
  {
   "cell_type": "markdown",
   "id": "95cbf423",
   "metadata": {},
   "source": [
    "### Все nan заменяю на 0. Оставшиеся категориальные признаки кодирую с помощью OneHot"
   ]
  },
  {
   "cell_type": "code",
   "execution_count": 706,
   "id": "828ffa3c-577c-45ff-b37a-317286f56af8",
   "metadata": {},
   "outputs": [],
   "source": [
    "df = df.fillna(0)"
   ]
  },
  {
   "cell_type": "code",
   "execution_count": 707,
   "id": "289b5894-3879-4e6c-a06d-5faef14e416a",
   "metadata": {},
   "outputs": [
    {
     "data": {
      "text/plain": [
       "(1460, 42)"
      ]
     },
     "execution_count": 707,
     "metadata": {},
     "output_type": "execute_result"
    }
   ],
   "source": [
    "df.shape"
   ]
  },
  {
   "cell_type": "code",
   "execution_count": 708,
   "id": "c356a1fb-1e12-45b1-a4c6-9db8031739bc",
   "metadata": {},
   "outputs": [
    {
     "data": {
      "text/plain": [
       "(1460, 145)"
      ]
     },
     "execution_count": 708,
     "metadata": {},
     "output_type": "execute_result"
    }
   ],
   "source": [
    "df = pd.get_dummies(df, dtype=int)\n",
    "df.shape"
   ]
  },
  {
   "cell_type": "code",
   "execution_count": 709,
   "id": "588725a1-7756-4fb8-a2d4-7e0e9d845384",
   "metadata": {},
   "outputs": [],
   "source": [
    "y = df[\"SalePrice\"]\n",
    "df = df.drop(\"SalePrice\", axis=1)"
   ]
  },
  {
   "cell_type": "markdown",
   "id": "3a65278f",
   "metadata": {},
   "source": [
    "### Можно заметить, что цена домов не похожа на нормальное распределение. Лучше это изменить, логарифмировав значения"
   ]
  },
  {
   "cell_type": "code",
   "execution_count": null,
   "id": "fd10bf2f",
   "metadata": {},
   "outputs": [],
   "source": [
    "y.hist(bins=20)"
   ]
  },
  {
   "cell_type": "code",
   "execution_count": 710,
   "id": "e48fa933-ba8f-4d4d-9764-80aaf4407974",
   "metadata": {},
   "outputs": [
    {
     "data": {
      "text/plain": [
       "<Axes: >"
      ]
     },
     "execution_count": 710,
     "metadata": {},
     "output_type": "execute_result"
    },
    {
     "data": {
      "image/png": "[encoded data removed]",
      "text/plain": [
       "<Figure size 640x480 with 1 Axes>"
      ]
     },
     "metadata": {},
     "output_type": "display_data"
    }
   ],
   "source": [
    "np.log(1 + y).hist(bins=20)"
   ]
  },
  {
   "cell_type": "code",
   "execution_count": null,
   "id": "67e56ef2",
   "metadata": {},
   "outputs": [],
   "source": [
    "df.columns"
   ]
  },
  {
   "cell_type": "markdown",
   "id": "f01b6130",
   "metadata": {},
   "source": [
    "### Всю работу с данными для удобства внёс в один класс. Далее займусь подбором лучшей модели"
   ]
  },
  {
   "cell_type": "code",
   "execution_count": 1,
   "id": "4e764d2b-dea1-48b1-8940-ec66c4e8a095",
   "metadata": {},
   "outputs": [],
   "source": [
    "from sklearn.preprocessing import StandardScaler\n",
    "from sklearn.preprocessing import OneHotEncoder\n",
    "import pandas as pd\n",
    "import numpy as np\n",
    "import sklearn\n",
    "\n",
    "def remake_column(df_local, value_cat, value_num, column_name):\n",
    "    df_local.loc[:, column_name] = df_local[column_name].fillna(0)\n",
    "    for i in range(len(value_cat)):\n",
    "        df_local.loc[df_local[column_name] == value_cat[i], column_name] = value_num[i]\n",
    "    df_local.loc[:, column_name] = df_local[column_name].astype(int)\n",
    "    return df_local[column_name]\n",
    "    \n",
    "class BaseDataPreprocessor(sklearn.base.TransformerMixin):\n",
    "    def __init__(self, need_column):\n",
    "        self.need_column = need_column\n",
    "        self.ohe = OneHotEncoder(handle_unknown='ignore', sparse_output=False)\n",
    "        pass\n",
    "\n",
    "    def fit(self, data, *args):\n",
    "        return self\n",
    "        \n",
    "    def transform(self, df, train=False) -> np.array:\n",
    "        df = df[self.need_column]\n",
    "        \n",
    "        df.loc[:,\"LotShape\"] = remake_column(df, [\"IR3\", \"IR2\", \"IR1\", \"Reg\"], [1, 2, 3, 4], \"LotShape\")\n",
    "        df.loc[:,\"ExterQual\"] = remake_column(df, [\"Po\", \"Fa\", \"TA\", \"Gd\", \"Ex\"], [0, 1, 2, 3, 4], \"ExterQual\")\n",
    "        df.loc[:,\"BsmtQual\"] = remake_column(df, [\"NA\", \"Po\", \"Fa\", \"TA\", \"Gd\", \"Ex\"], [0, 1, 2, 3, 4, 5], \"BsmtQual\")\n",
    "        df.loc[:,\"BsmtExposure\"] = remake_column(df, [\"NA\", \"No\", \"Mn\", \"Av\", \"Gd\"], [0, 1, 2, 3, 4], \"BsmtExposure\")\n",
    "        df.loc[:,\"KitchenQual\"] = remake_column(df, [\"Po\", \"Fa\", \"TA\", \"Gd\", \"Ex\"], [0, 1, 2, 3, 4], \"KitchenQual\")\n",
    "        df.loc[:,\"GarageFinish\"] = remake_column(df, [\"NA\", \"Unf\", \"RFn\", \"Fin\"], [0, 1, 2, 3], \"GarageFinish\")\n",
    "\n",
    "        categorical_columns = df.select_dtypes(include=['object']).columns.tolist()\n",
    "        if train:\n",
    "            one_hot_encoded = self.ohe.fit_transform(df[categorical_columns])\n",
    "        else:\n",
    "            one_hot_encoded = self.ohe.transform(df[categorical_columns])\n",
    "        \n",
    "        one_hot_df = pd.DataFrame(one_hot_encoded, columns=self.ohe.get_feature_names_out(categorical_columns))\n",
    "\n",
    "        one_hot_df.index = np.linspace(df.index.min(), df.index.max(), len(df))\n",
    "        \n",
    "        df = pd.concat([df, one_hot_df], axis=1, join=\"inner\")\n",
    "        df = df.drop(categorical_columns, axis=1)\n",
    "        \n",
    "        df = df.fillna(0)\n",
    "        \n",
    "        df = np.log(2 + df)\n",
    "        return df"
   ]
  },
  {
   "cell_type": "code",
   "execution_count": 2,
   "id": "26bf8f24-c9a1-410e-a367-18b99f6d0bed",
   "metadata": {},
   "outputs": [],
   "source": [
    "from sklearn.linear_model import Ridge\n",
    "from sklearn.model_selection import GridSearchCV, cross_val_score\n",
    "from sklearn.metrics import mean_squared_error, make_scorer\n",
    "import pandas as pd\n",
    "import numpy as np\n",
    "import matplotlib.pyplot as plt\n",
    "import seaborn as sn"
   ]
  },
  {
   "cell_type": "code",
   "execution_count": 3,
   "id": "c9ca497f-19ea-44de-b84d-7eeb48b712b2",
   "metadata": {},
   "outputs": [],
   "source": [
    "preprocessor = BaseDataPreprocessor(['MSZoning', 'LotArea', 'Street', 'LotShape', 'LandContour', 'Utilities',\n",
    "       'LotConfig', 'LandSlope', 'Neighborhood', 'Condition1', 'Condition2',\n",
    "       'BldgType', 'HouseStyle', 'OverallQual', 'YearBuilt', 'YearRemodAdd',\n",
    "       'RoofStyle', 'RoofMatl', 'Exterior1st', 'Exterior2nd', 'MasVnrArea',\n",
    "       'ExterQual', 'ExterCond', 'Foundation', 'BsmtQual', 'BsmtCond',\n",
    "       'BsmtExposure', 'BsmtFinType1', 'BsmtFinSF1', 'BsmtFinType2',\n",
    "       'BsmtUnfSF', 'TotalBsmtSF', 'Heating', 'HeatingQC', 'CentralAir',\n",
    "       'Electrical', '1stFlrSF', '2ndFlrSF', 'GrLivArea', 'BsmtFullBath',\n",
    "       'FullBath', 'HalfBath', 'BedroomAbvGr', 'KitchenAbvGr', 'KitchenQual',\n",
    "       'TotRmsAbvGrd', 'Functional', 'Fireplaces', 'GarageType', 'GarageYrBlt',\n",
    "       'GarageFinish', 'GarageCars', 'GarageArea', 'GarageQual', 'GarageCond',\n",
    "       'PavedDrive', 'WoodDeckSF', 'OpenPorchSF', 'EnclosedPorch',\n",
    "       'ScreenPorch', 'SaleType', 'SaleCondition'])\n",
    "\n",
    "scaler = StandardScaler()\n",
    "\n",
    "df_train = pd.read_csv(\"train.csv\", index_col=\"Id\")\n",
    "df_test = pd.read_csv(\"test.csv\", index_col=\"Id\")\n",
    "\n",
    "y_train = df_train[\"SalePrice\"]\n",
    "X_train = preprocessor.transform(df_train.drop(\"SalePrice\", axis=1), train=True)\n",
    "X_test = preprocessor.transform(df_test)\n",
    "\n",
    "X_train = scaler.fit_transform(X_train)\n",
    "X_test = scaler.transform(X_test)"
   ]
  },
  {
   "cell_type": "code",
   "execution_count": 29,
   "id": "4779230e-25a8-447c-9e26-f705302d23df",
   "metadata": {},
   "outputs": [
    {
     "ename": "SyntaxError",
     "evalue": "invalid syntax (3072202864.py, line 10)",
     "output_type": "error",
     "traceback": [
      "\u001b[1;36m  Cell \u001b[1;32mIn[29], line 10\u001b[1;36m\u001b[0m\n\u001b[1;33m    rmse_score = make_scorer(rmse, greater_is_better = )\u001b[0m\n\u001b[1;37m                                                       ^\u001b[0m\n\u001b[1;31mSyntaxError\u001b[0m\u001b[1;31m:\u001b[0m invalid syntax\n"
     ]
    }
   ],
   "source": [
    "def rmse(actual, predict):\n",
    "    predict = np.array(predict)\n",
    "    actual = np.array(actual)\n",
    "    distance = predict - actual\n",
    "    square_distance = distance ** 2\n",
    "    mean_square_distance = square_distance.mean()\n",
    "    score = np.sqrt(mean_square_distance)\n",
    "    return score\n",
    "\n",
    "rmse_score = make_scorer(rmse, greater_is_better = )"
   ]
  },
  {
   "cell_type": "code",
   "execution_count": null,
   "id": "eb173327-434b-4d48-a889-4c8b5c74e853",
   "metadata": {},
   "outputs": [],
   "source": []
  },
  {
   "cell_type": "code",
   "execution_count": 172,
   "id": "607e6678-5e72-411a-acdd-edefd9ace7db",
   "metadata": {},
   "outputs": [
    {
     "name": "stdout",
     "output_type": "stream",
     "text": [
      "{'alpha': 100.0} 0.8460029766378543\n"
     ]
    },
    {
     "data": {
      "text/plain": [
       "0.8460029766378543"
      ]
     },
     "execution_count": 172,
     "metadata": {},
     "output_type": "execute_result"
    }
   ],
   "source": [
    "parameters = {\"alpha\":np.logspace(-4, 5, 10)}\n",
    "model = Ridge()\n",
    "grid = GridSearchCV(model, parameters, cv=10)\n",
    "answer = grid.fit(X_train, y_train)\n",
    "params = answer.best_params_\n",
    "print(params, answer.best_score_)\n",
    "\n",
    "model = Ridge(**params)\n",
    "cross_val_score(model, X_train, y_train, cv=10).mean()"
   ]
  },
  {
   "cell_type": "code",
   "execution_count": 174,
   "id": "776b0765-6e4d-42c4-a67d-b5086bc50c04",
   "metadata": {},
   "outputs": [
    {
     "name": "stdout",
     "output_type": "stream",
     "text": [
      "{'criterion': 'poisson', 'max_depth': 5, 'min_samples_leaf': 3, 'min_samples_split': 3} 0.7724363042773065\n"
     ]
    },
    {
     "data": {
      "text/plain": [
       "0.7720903332726359"
      ]
     },
     "execution_count": 174,
     "metadata": {},
     "output_type": "execute_result"
    }
   ],
   "source": [
    "from sklearn.tree import DecisionTreeRegressor\n",
    "\n",
    "parameters = {\"criterion\":[\"squared_error\", \"friedman_mse\", \"absolute_error\", \"poisson\"],\n",
    "              \"max_depth\":[3, 4, 5],\n",
    "              \"min_samples_split\":[3, 4],\n",
    "              \"min_samples_leaf\":[2, 3, 4]}\n",
    "model = DecisionTreeRegressor()\n",
    "grid = GridSearchCV(model, parameters, cv=10)\n",
    "answer = grid.fit(X_train, y_train)\n",
    "params = answer.best_params_\n",
    "print(params, answer.best_score_)\n",
    "\n",
    "model = DecisionTreeRegressor(**params)\n",
    "cross_val_score(model, X_train, y_train, cv=10).mean()"
   ]
  },
  {
   "cell_type": "code",
   "execution_count": 179,
   "id": "148b023c-345c-43f3-a994-a627bd343f0f",
   "metadata": {},
   "outputs": [
    {
     "name": "stdout",
     "output_type": "stream",
     "text": [
      "{'criterion': 'squared_error', 'max_depth': 8, 'min_samples_leaf': 2, 'min_samples_split': 4, 'n_estimators': 3000} 0.85220857416862\n"
     ]
    },
    {
     "data": {
      "text/plain": [
       "0.8579962067850962"
      ]
     },
     "execution_count": 179,
     "metadata": {},
     "output_type": "execute_result"
    }
   ],
   "source": [
    "from sklearn.ensemble import RandomForestRegressor\n",
    "\n",
    "parameters = {\"n_estimators\":[1500, 2000, 3000],\n",
    "              \"criterion\":[\"squared_error\"],\n",
    "              \"max_depth\":[5, 6, 7, 8],\n",
    "              \"min_samples_split\":[2, 3, 4],\n",
    "              \"min_samples_leaf\":[2, 3]}\n",
    "\n",
    "model = RandomForestRegressor()\n",
    "grid = GridSearchCV(model, parameters, cv=5)\n",
    "answer = grid.fit(X_train, y_train)\n",
    "params = answer.best_params_\n",
    "print(params, answer.best_score_)\n",
    "\n",
    "model = RandomForestRegressor(**params)\n",
    "cross_val_score(model, X_train, y_train, cv=10).mean()"
   ]
  },
  {
   "cell_type": "code",
   "execution_count": 8,
   "id": "bba3f494-112c-4d66-b0d4-f5d645918ae8",
   "metadata": {},
   "outputs": [
    {
     "name": "stdout",
     "output_type": "stream",
     "text": [
      "{'depth': 5, 'iterations': 7000, 'l2_leaf_reg': 0.1, 'learning_rate': 0.01, 'loss_function': 'RMSE'} 0.8980084668888393\n"
     ]
    },
    {
     "data": {
      "text/plain": [
       "0.8988437194976303"
      ]
     },
     "execution_count": 8,
     "metadata": {},
     "output_type": "execute_result"
    }
   ],
   "source": [
    "from catboost import CatBoostRegressor\n",
    "\n",
    "parameters = {\"loss_function\":[\"RMSE\"],\n",
    "              \"iterations\":[6000, 7000, 8000, 9000],\n",
    "              \"learning_rate\":[0.01, 0.1],\n",
    "              \"depth\":[3, 5, 7],\n",
    "              \"l2_leaf_reg\":[0.1, 1]}\n",
    "model = CatBoostRegressor(verbose=False)\n",
    "grid = GridSearchCV(model, parameters, cv=5)\n",
    "answer = grid.fit(X_train, y_train)\n",
    "params = answer.best_params_\n",
    "print(params, answer.best_score_)\n",
    "\n",
    "model = CatBoostRegressor(**params, verbose=False)\n",
    "cross_val_score(model, X_train, y_train, cv=10).mean()"
   ]
  },
  {
   "cell_type": "code",
   "execution_count": 9,
   "id": "a4c104eb-4686-4eef-acb3-dce713247c98",
   "metadata": {},
   "outputs": [],
   "source": [
    "model.fit(X_train, y_train)\n",
    "pred = model.predict(X_test)"
   ]
  },
  {
   "cell_type": "code",
   "execution_count": 10,
   "id": "091d2350-9679-447a-83b5-b9a23411fafd",
   "metadata": {},
   "outputs": [],
   "source": [
    "answer = df_test.copy()\n",
    "answer[\"SalePrice\"] = pred\n",
    "answer = answer[\"SalePrice\"]\n",
    "answer.to_csv(\"answer.csv\")"
   ]
  },
  {
   "cell_type": "code",
   "execution_count": null,
   "id": "bd6ccb0b-84ee-49d6-9646-68b1d22dc278",
   "metadata": {},
   "outputs": [],
   "source": []
  }
 ],
 "metadata": {
  "kernelspec": {
   "display_name": "Python 3 (ipykernel)",
   "language": "python",
   "name": "python3"
  },
  "language_info": {
   "codemirror_mode": {
    "name": "ipython",
    "version": 3
   },
   "file_extension": ".py",
   "mimetype": "text/x-python",
   "name": "python",
   "nbconvert_exporter": "python",
   "pygments_lexer": "ipython3",
   "version": "3.11.7"
  }
 },
 "nbformat": 4,
 "nbformat_minor": 5
}
